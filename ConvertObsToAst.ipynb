{
 "cells": [
  {
   "cell_type": "markdown",
   "id": "d2a0579f-d618-4533-9353-67fd4ce4f5fb",
   "metadata": {
    "tags": []
   },
   "source": [
    "# Horn Radio Telescope Convert files from Comma Separated Values (.csv) to .ast, .hot files"
   ]
  },
  {
   "cell_type": "markdown",
   "id": "b3ed73e6-19bb-4788-a4da-f24339992c21",
   "metadata": {},
   "source": [
    "### Glen Langston, 2021 October 14"
   ]
  },
  {
   "cell_type": "markdown",
   "id": "dd5afc3d-a67a-4d00-a41b-9d7c7fd6efe9",
   "metadata": {},
   "source": [
    "This notebook shows examples of examining files from the DSPIRA spectrometer_w_cal.grc files.  These files are created within the Gnuradio Environment.  The Afficionado/Student/Teacher/Hobbiest andobservating files and converting between NSF Astronomy (.ast), Hot load (.hot) and\n",
    "Comma separated values (.csv) files.   Some prefer viewing/processing data in spreadsheet programs, and using"
   ]
  },
  {
   "cell_type": "markdown",
   "id": "f48fcc8c-d34a-4e0e-97a2-4fa2071525d2",
   "metadata": {},
   "source": [
    "To make observations in this format, install the West Virginia University Radio Astronomy Instrumentation Laboratory\n",
    "software available at https://www.github.com/WVURAIL/gr-radio_astro"
   ]
  },
  {
   "cell_type": "code",
   "execution_count": 5,
   "id": "0c022013-b72c-4d3d-af45-10850fe2da3d",
   "metadata": {},
   "outputs": [],
   "source": [
    "# To simpify working with observations in different directories the \"rasnames\"\n",
    "# package will search for .ast and .hot files in lists of directories, as well as a list of\n",
    "# file names\n",
    "import rasnames\n",
    "# import functions to convert to and from .csv files\n",
    "import convertobs"
   ]
  },
  {
   "cell_type": "code",
   "execution_count": 6,
   "id": "2c56a57c-53d6-4e51-bc76-31b91b934ae9",
   "metadata": {},
   "outputs": [],
   "source": [
    "# look at all files in the data directory\n",
    "# now look only for comma separated values\n",
    "typea = \"csv\"\n",
    "typeb = \"\"\n",
    "fullnames, nfull = rasnames.splitNames(\"data\", typea, typeb, doDebug=False)"
   ]
  },
  {
   "cell_type": "code",
   "execution_count": 7,
   "id": "a057ab23-5a56-40aa-a67d-94169df5819b",
   "metadata": {},
   "outputs": [
    {
     "name": "stdout",
     "output_type": "stream",
     "text": [
      "Last of  44 files is: data/20-11-28T195828.csv\n"
     ]
    }
   ],
   "source": [
    "# get last file name\n",
    "csvname = fullnames[nfull-1]\n",
    "# now show the file name\n",
    "print(\"Last of % d files is: %s\" % (nfull, csvname))"
   ]
  },
  {
   "cell_type": "markdown",
   "id": "55b4ecc2-5102-4991-b22c-bd490e3c2bf7",
   "metadata": {},
   "source": [
    "## Now move the converted files to a new directory\n",
    "This step is important if the .csv files were created in a directory already containing\n",
    ".ast and .hot files."
   ]
  },
  {
   "cell_type": "code",
   "execution_count": 8,
   "id": "e07f2697-25a9-4081-b0e9-cb54f2f5e031",
   "metadata": {},
   "outputs": [
    {
     "name": "stdout",
     "output_type": "stream",
     "text": [
      "Directory 'converted' already exists\n"
     ]
    }
   ],
   "source": [
    "# create a new directory name\n",
    "outdir = \"converted\"\n",
    "# use the shell command to create the directory\n",
    "import os\n",
    "if os.path.isdir(outdir):\n",
    "    print(\"Directory '%s' already exists\" % (outdir))\n",
    "else:\n",
    "    print(\"Creating directory '%s'\" % (outdir))\n",
    "    !mkdir {outdir}\n",
    "# now for all converted files\n",
    "for iii in range(len(fullnames)):\n",
    "    aname = fullnames[iii]\n",
    "    # if file has not already been moved\n",
    "    if os.path.isfile(aname):\n",
    "        ! mv {aname} {outdir}\n",
    "        # now update full name to current location\n",
    "        anameparts = aname.split(\"/\")\n",
    "        nparts = len(anameparts)\n",
    "        if nparts > 1:\n",
    "            fullnames[iii] = outdir + \"/\" + anameparts[nparts-1]\n",
    "# end for all files converted"
   ]
  },
  {
   "cell_type": "code",
   "execution_count": 9,
   "id": "548ed7f6-565b-444a-9cba-6f65d812f19e",
   "metadata": {},
   "outputs": [
    {
     "name": "stdout",
     "output_type": "stream",
     "text": [
      "20-11-28T180022.ast 20-11-28T182912.ast 20-11-28T185802.ast 20-11-28T193215.ast\n",
      "20-11-28T180022.csv 20-11-28T182912.csv 20-11-28T185802.csv 20-11-28T193215.csv\n",
      "20-11-28T180259.ast 20-11-28T183150.ast 20-11-28T190602.ast 20-11-28T193453.ast\n",
      "20-11-28T180259.csv 20-11-28T183150.csv 20-11-28T190602.csv 20-11-28T193453.csv\n",
      "20-11-28T180537.ast 20-11-28T183427.ast 20-11-28T190840.ast 20-11-28T193730.ast\n",
      "20-11-28T180537.csv 20-11-28T183427.csv 20-11-28T190840.csv 20-11-28T193730.csv\n",
      "20-11-28T180814.ast 20-11-28T183704.ast 20-11-28T191117.ast 20-11-28T194007.ast\n",
      "20-11-28T180814.csv 20-11-28T183704.csv 20-11-28T191117.csv 20-11-28T194007.csv\n",
      "20-11-28T181051.ast 20-11-28T183942.ast 20-11-28T191354.ast 20-11-28T194245.ast\n",
      "20-11-28T181051.csv 20-11-28T183942.csv 20-11-28T191354.csv 20-11-28T194245.csv\n",
      "20-11-28T181329.ast 20-11-28T184219.ast 20-11-28T191632.ast 20-11-28T194522.ast\n",
      "20-11-28T181329.csv 20-11-28T184219.csv 20-11-28T191632.csv 20-11-28T194522.csv\n",
      "20-11-28T181606.ast 20-11-28T184456.ast 20-11-28T191909.ast 20-11-28T194759.ast\n",
      "20-11-28T181606.csv 20-11-28T184456.csv 20-11-28T191909.csv 20-11-28T194759.csv\n",
      "20-11-28T181843.ast 20-11-28T184733.ast 20-11-28T192146.ast 20-11-28T195036.ast\n",
      "20-11-28T181843.csv 20-11-28T184733.csv 20-11-28T192146.csv 20-11-28T195036.csv\n",
      "20-11-28T182121.ast 20-11-28T185011.ast 20-11-28T192423.ast 20-11-28T195314.ast\n",
      "20-11-28T182121.csv 20-11-28T185011.csv 20-11-28T192423.csv 20-11-28T195314.csv\n",
      "20-11-28T182358.ast 20-11-28T185248.ast 20-11-28T192701.ast 20-11-28T195551.ast\n",
      "20-11-28T182358.csv 20-11-28T185248.csv 20-11-28T192701.csv 20-11-28T195551.csv\n",
      "20-11-28T182635.ast 20-11-28T185525.ast 20-11-28T192938.ast 20-11-28T195828.ast\n",
      "20-11-28T182635.csv 20-11-28T185525.csv 20-11-28T192938.csv 20-11-28T195828.csv\n"
     ]
    }
   ],
   "source": [
    "# list files in the new directory\n",
    "!ls {outdir}"
   ]
  },
  {
   "cell_type": "code",
   "execution_count": 10,
   "id": "c655f3fa-e005-4091-a49e-9ad938054624",
   "metadata": {},
   "outputs": [
    {
     "name": "stdout",
     "output_type": "stream",
     "text": [
      "First of  44 files is: converted/20-11-28T180022.csv\n"
     ]
    }
   ],
   "source": [
    "# get first file name, which happens to be a \"Hot\" file\n",
    "hotname = fullnames[0]\n",
    "# now show the file name\n",
    "print(\"First of % d files is: %s\" % (nfull, hotname))"
   ]
  },
  {
   "cell_type": "markdown",
   "id": "9e0728c3-8737-4f81-913e-95de44225d5f",
   "metadata": {},
   "source": [
    "### Files above show: 1) Sample/Spectral channel number, 2) Frequency (Hz), 3) Intensity (Counts)"
   ]
  },
  {
   "cell_type": "code",
   "execution_count": 11,
   "id": "2d591748-6cfe-41bb-abc8-68dd90b0f612",
   "metadata": {},
   "outputs": [
    {
     "name": "stdout",
     "output_type": "stream",
     "text": [
      "['0964,  1421767578,  997.8760']\n"
     ]
    }
   ],
   "source": [
    "# get one set of hot values\n",
    "hotvalues = ! head -1024 {hotname} | tail -1\n",
    "print(hotvalues)"
   ]
  },
  {
   "cell_type": "markdown",
   "id": "fb861345-1548-4bd1-8500-e65ceb58a5e8",
   "metadata": {},
   "source": [
    " ### Now convert to ast Files"
   ]
  },
  {
   "cell_type": "code",
   "execution_count": 12,
   "id": "f738d228-09d8-4a02-9014-3000ff6b3c35",
   "metadata": {},
   "outputs": [
    {
     "name": "stdout",
     "output_type": "stream",
     "text": [
      "New files created: 44; converted/20-11-28T180022.ast to converted/20-11-28T195828.ast\n"
     ]
    }
   ],
   "source": [
    "newnames, nnew = convertobs.toAst(fullnames)\n",
    "print(\"New files created: %d; %s to %s\" % (nnew, newnames[0], newnames[nnew-1]))"
   ]
  },
  {
   "cell_type": "code",
   "execution_count": 13,
   "id": "255580b6-f352-4024-a777-bd7bc2874e88",
   "metadata": {},
   "outputs": [
    {
     "name": "stdout",
     "output_type": "stream",
     "text": [
      "#, File: 20-11-28T180022.hot\n",
      "#NOTEA   = RSP1A+GPIOLabs Pi #1 On Horn\n",
      "#NOTEB   = Sdrplay 8 MHz Test\n",
      "#OBSERVER= Science Aficionado\n",
      "#DEVICE  = SDRPlay RSP1A\n",
      "#DATADIR = ../data/\n",
      "#SITE    = RSP1A+GPIOLabs Pi #1 On Horn\n",
      "#CITY    = Green Bank\n",
      "#REGION  = West Virginia\n",
      "#COUNTRY = US\n"
     ]
    }
   ],
   "source": [
    "# now look at the file header\n",
    "!head -10 {newnames[0]}"
   ]
  },
  {
   "cell_type": "code",
   "execution_count": 10,
   "id": "fdd2a890-e741-4a70-bb13-2217865f8dbb",
   "metadata": {},
   "outputs": [
    {
     "name": "stdout",
     "output_type": "stream",
     "text": [
      "['0964,, , 1421767578,, , 997.8760']\n"
     ]
    }
   ],
   "source": [
    "# now look at the data \n",
    "astvalues = ! head -1024 {newnames[0]} | tail -1\n",
    "print(astvalues)"
   ]
  },
  {
   "cell_type": "markdown",
   "id": "fe93449a-2a8b-43a3-8705-cd6e244b00ad",
   "metadata": {
    "tags": []
   },
   "source": [
    "## You've now examined the raw observing files for Horn Radio Telescope observations and converted astronomy format data\n",
    "into Comma-Separted-Values ASCII format for processing inside of spreadsheets\n",
    "# Congratulations!\n"
   ]
  },
  {
   "cell_type": "code",
   "execution_count": null,
   "id": "e5c0b090-6ec7-488e-9466-16b72bb775e1",
   "metadata": {},
   "outputs": [],
   "source": []
  },
  {
   "cell_type": "code",
   "execution_count": null,
   "id": "ebd2c066-2ba0-48d4-929a-8257463d9ef9",
   "metadata": {},
   "outputs": [],
   "source": []
  }
 ],
 "metadata": {
  "kernelspec": {
   "display_name": "Python 3 (ipykernel)",
   "language": "python",
   "name": "python3"
  },
  "language_info": {
   "codemirror_mode": {
    "name": "ipython",
    "version": 3
   },
   "file_extension": ".py",
   "mimetype": "text/x-python",
   "name": "python",
   "nbconvert_exporter": "python",
   "pygments_lexer": "ipython3",
   "version": "3.9.4"
  }
 },
 "nbformat": 4,
 "nbformat_minor": 5
}
