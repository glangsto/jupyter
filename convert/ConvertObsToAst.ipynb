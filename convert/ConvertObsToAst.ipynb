{
 "cells": [
  {
   "cell_type": "markdown",
   "id": "d2a0579f-d618-4533-9353-67fd4ce4f5fb",
   "metadata": {
    "tags": []
   },
   "source": [
    "# Horn Radio Telescope Observatiosn: Converting from Comma Separated Values (.csv) to .ast, .hot files"
   ]
  },
  {
   "cell_type": "markdown",
   "id": "b3ed73e6-19bb-4788-a4da-f24339992c21",
   "metadata": {},
   "source": [
    "### Glen Langston, 2021 October 14"
   ]
  },
  {
   "cell_type": "markdown",
   "id": "dd5afc3d-a67a-4d00-a41b-9d7c7fd6efe9",
   "metadata": {},
   "source": [
    "### This notebook shows examples of examining files from the DSPIRA spectrometer_w_cal.grc program.  These files are created within the Gnuradio Environment.  The Afficionado/Student/Teacher/Hobbiest andobservating files and converting between NSF Astronomy (.ast), Hot load (.hot) and Comma separated values (.csv) files.   Some prefer viewing/processing data in spreadsheet programs, and using the spreadsheet plotting tools.\n",
    "\n",
    "### The DSPIRA spectrometer_w_cal files have the advantage of being simpler, having only two columns.\n",
    "The two data columns are Frequency (MHz) and Intensity (counts) for each spectrum.\n",
    "All the observing parameters are written into the file name, including\n",
    "1) Date and Time\n",
    "2) Telescope City name,\n",
    "3) Telescope Azimuith and Telescope Elevation\n",
    "\n",
    "### The NSF Astronomy and Hot files are similar, but have extensive header information, allowing comparison of different observations and also combining many observations into Milky Way Maps."
   ]
  },
  {
   "cell_type": "markdown",
   "id": "f48fcc8c-d34a-4e0e-97a2-4fa2071525d2",
   "metadata": {},
   "source": [
    "To make observations in either of these formats, install the West Virginia University Radio Astronomy Digitial Instrumentation Laboratory software available at https://www.github.com/WVURAIL/gr-radio_astro"
   ]
  },
  {
   "cell_type": "code",
   "execution_count": 1,
   "id": "e86d1d35-e76a-422c-a640-92481a4327a2",
   "metadata": {},
   "outputs": [
    {
     "name": "stdout",
     "output_type": "stream",
     "text": [
      "/Users/glangsto/Desktop/Research/jupyter/convert\n"
     ]
    }
   ],
   "source": [
    "# find out your current directory\n",
    "!pwd\n",
    "# now add one directory up to find packages \n",
    "import sys\n",
    "sys.path.append(\"../\")"
   ]
  },
  {
   "cell_type": "code",
   "execution_count": 2,
   "id": "0c022013-b72c-4d3d-af45-10850fe2da3d",
   "metadata": {},
   "outputs": [],
   "source": [
    "# for parsing file names is defined one directory up.\n",
    "import rasnames\n",
    "# import functions to convert to and from .csv files\n",
    "import convertobs"
   ]
  },
  {
   "cell_type": "code",
   "execution_count": 3,
   "id": "a5852c21-b601-40ee-bb90-357f3a9aded2",
   "metadata": {},
   "outputs": [
    {
     "name": "stdout",
     "output_type": "stream",
     "text": [
      "Listing files in sub-directory: converted\n",
      "total 240\n",
      "-rw-r--r--  1 glangsto  staff  60616 Feb  7 15:15 20-11-28T180022.csv\n",
      "-rw-r--r--  1 glangsto  staff  60290 Feb  7 15:15 20-11-28T195828.csv\n"
     ]
    }
   ],
   "source": [
    "# list a few files in the subdirectory containing the .csv files\n",
    "datadir = \"converted\"\n",
    "print(\"Listing files in sub-directory: %s\" % (datadir))\n",
    "!ls -l {datadir}  | head -5 "
   ]
  },
  {
   "cell_type": "code",
   "execution_count": 4,
   "id": "2c56a57c-53d6-4e51-bc76-31b91b934ae9",
   "metadata": {},
   "outputs": [],
   "source": [
    "# look at all files in the data directory\n",
    "# now look only for comma separated values\n",
    "typea = \"csv\"\n",
    "typeb = \"\"\n",
    "fullnames, nfull = rasnames.splitNames(datadir, typea, typeb, doDebug=False)"
   ]
  },
  {
   "cell_type": "code",
   "execution_count": 5,
   "id": "a057ab23-5a56-40aa-a67d-94169df5819b",
   "metadata": {},
   "outputs": [
    {
     "name": "stdout",
     "output_type": "stream",
     "text": [
      "Last of  2 files is: converted/20-11-28T195828.csv\n"
     ]
    }
   ],
   "source": [
    "# get last file name\n",
    "csvname = fullnames[nfull-1]\n",
    "# now show the file name\n",
    "print(\"Last of % d files is: %s\" % (nfull, csvname))"
   ]
  },
  {
   "cell_type": "code",
   "execution_count": 6,
   "id": "548ed7f6-565b-444a-9cba-6f65d812f19e",
   "metadata": {},
   "outputs": [
    {
     "name": "stdout",
     "output_type": "stream",
     "text": [
      "20-11-28T180022.csv\n"
     ]
    }
   ],
   "source": [
    "# list the first file in the new directory\n",
    "!ls {datadir}  | head -1"
   ]
  },
  {
   "cell_type": "code",
   "execution_count": 7,
   "id": "c655f3fa-e005-4091-a49e-9ad938054624",
   "metadata": {},
   "outputs": [
    {
     "name": "stdout",
     "output_type": "stream",
     "text": [
      "First of  2 files is: converted/20-11-28T180022.csv\n"
     ]
    }
   ],
   "source": [
    "# get first file name, which happens to be a \"Hot\" file\n",
    "hotname = fullnames[0]\n",
    "# now show the file name\n",
    "print(\"First of % d files is: %s\" % (nfull, hotname))"
   ]
  },
  {
   "cell_type": "markdown",
   "id": "9e0728c3-8737-4f81-913e-95de44225d5f",
   "metadata": {},
   "source": [
    "### Files above show: 1) Sample/Spectral channel number, 2) Frequency (Hz), 3) Intensity (Counts)"
   ]
  },
  {
   "cell_type": "code",
   "execution_count": 8,
   "id": "2d591748-6cfe-41bb-abc8-68dd90b0f612",
   "metadata": {},
   "outputs": [
    {
     "name": "stdout",
     "output_type": "stream",
     "text": [
      "['0964,  1421767578,  997.8760']\n"
     ]
    }
   ],
   "source": [
    "# get one set of hot values\n",
    "hotvalues = ! head -1024 {hotname} | tail -1\n",
    "print(hotvalues)"
   ]
  },
  {
   "cell_type": "markdown",
   "id": "fb861345-1548-4bd1-8500-e65ceb58a5e8",
   "metadata": {},
   "source": [
    " ### Now convert to ast Files"
   ]
  },
  {
   "cell_type": "code",
   "execution_count": 9,
   "id": "f738d228-09d8-4a02-9014-3000ff6b3c35",
   "metadata": {},
   "outputs": [
    {
     "name": "stdout",
     "output_type": "stream",
     "text": [
      "New files created: 2; converted/20-11-28T180022.hot to converted/20-11-28T195828.ast\n"
     ]
    }
   ],
   "source": [
    "newnames, nnew = convertobs.toAst(fullnames)\n",
    "print(\"New files created: %d; %s to %s\" % (nnew, newnames[0], newnames[nnew-1]))"
   ]
  },
  {
   "cell_type": "code",
   "execution_count": 10,
   "id": "255580b6-f352-4024-a777-bd7bc2874e88",
   "metadata": {},
   "outputs": [
    {
     "name": "stdout",
     "output_type": "stream",
     "text": [
      "# File: 20-11-28T180022.hot\n",
      "# NOTEA     = RSP1A+GPIOLabs Pi #1 On Horn\n",
      "# NOTEB     = Sdrplay 8 MHz Test\n",
      "# OBSERVER  = Science Aficionado\n",
      "# DEVICE    = SDRPlay RSP1A\n",
      "# DATADIR   = ../data/\n",
      "# SITE      = RSP1A+GPIOLabs Pi #1 On Horn\n",
      "# CITY      = Green Bank\n",
      "# REGION    = West Virginia\n",
      "# COUNTRY   = US\n"
     ]
    }
   ],
   "source": [
    "# now look at the file header\n",
    "!head -10 {newnames[0]}"
   ]
  },
  {
   "cell_type": "code",
   "execution_count": 11,
   "id": "fdd2a890-e741-4a70-bb13-2217865f8dbb",
   "metadata": {},
   "outputs": [
    {
     "name": "stdout",
     "output_type": "stream",
     "text": [
      "['0964 1421767578 997.8760']\n"
     ]
    }
   ],
   "source": [
    "# now look at the data \n",
    "astvalues = ! head -1024 {newnames[0]} | tail -1\n",
    "print(astvalues)"
   ]
  },
  {
   "cell_type": "markdown",
   "id": "fe93449a-2a8b-43a3-8705-cd6e244b00ad",
   "metadata": {
    "tags": []
   },
   "source": [
    "## You've now examined the spectrometer_w_cal observing files for Horn Radio Telescope observations and converted astronomy format data \n",
    "\n",
    "# Congratulations!\n"
   ]
  },
  {
   "cell_type": "code",
   "execution_count": 12,
   "id": "e5c0b090-6ec7-488e-9466-16b72bb775e1",
   "metadata": {},
   "outputs": [
    {
     "name": "stdout",
     "output_type": "stream",
     "text": [
      "Creating directory 'reverted'\n"
     ]
    }
   ],
   "source": [
    "# select a new directory name\n",
    "outdir = \"reverted\"\n",
    "# use the shell command to create the directory\n",
    "import os\n",
    "if os.path.isdir(outdir):\n",
    "    print(\"Directory '%s' already exists\" % (outdir))\n",
    "else:\n",
    "    print(\"Creating directory '%s'\" % (outdir))\n",
    "    !mkdir {outdir}\n",
    "# now for all converted files\n",
    "for iii in range(len(newnames)):\n",
    "    aname = newnames[iii]\n",
    "    # if file has not already been moved\n",
    "    if os.path.isfile(aname):\n",
    "        ! mv {aname} {outdir}\n",
    "# end for all files converted"
   ]
  },
  {
   "cell_type": "code",
   "execution_count": 13,
   "id": "ebd2c066-2ba0-48d4-929a-8257463d9ef9",
   "metadata": {},
   "outputs": [
    {
     "name": "stdout",
     "output_type": "stream",
     "text": [
      "Listing files in sub-directory: reverted\n",
      "total 208\n",
      "-rw-r--r--  1 glangsto  staff  52525 Feb  7 15:16 20-11-28T180022.hot\n",
      "-rw-r--r--  1 glangsto  staff  52199 Feb  7 15:16 20-11-28T195828.ast\n"
     ]
    }
   ],
   "source": [
    "# list the first few files in the new directory\n",
    "print(\"Listing files in sub-directory: %s\" % (outdir))\n",
    "!ls -l {outdir}  | head -5 "
   ]
  },
  {
   "cell_type": "code",
   "execution_count": null,
   "id": "1ccc87d1-617e-4d94-9d73-01eb47ad318e",
   "metadata": {},
   "outputs": [],
   "source": []
  },
  {
   "cell_type": "markdown",
   "id": "ccdfb71c-a1c1-46c2-9fdc-fc355b449ce8",
   "metadata": {
    "tags": []
   },
   "source": [
    "### You're now good at creating and moving astronomy files around. Next we'll start data analysis and you'll need to keep track of your files to make your discoveries.\n",
    "\n",
    "## What did you learn about file conversion?  Easy isn't it?  \n",
    "## We intend to show that keeping etailed descriptions of the observations with the data is very important for making discoveries!\n",
    "\n",
    "# Congratulations!\n"
   ]
  },
  {
   "cell_type": "code",
   "execution_count": null,
   "id": "9f63c61d-183b-4266-ba3b-2ff5ecae8d1b",
   "metadata": {},
   "outputs": [],
   "source": []
  }
 ],
 "metadata": {
  "kernelspec": {
   "display_name": "Python 3 (ipykernel)",
   "language": "python",
   "name": "python3"
  },
  "language_info": {
   "codemirror_mode": {
    "name": "ipython",
    "version": 3
   },
   "file_extension": ".py",
   "mimetype": "text/x-python",
   "name": "python",
   "nbconvert_exporter": "python",
   "pygments_lexer": "ipython3",
   "version": "3.9.4"
  }
 },
 "nbformat": 4,
 "nbformat_minor": 5
}
