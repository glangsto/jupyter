{
 "cells": [
  {
   "cell_type": "markdown",
   "id": "d2a0579f-d618-4533-9353-67fd4ce4f5fb",
   "metadata": {
    "tags": []
   },
   "source": [
    "# Horn Radio Telescope Convert files from .ast, .hot to Comma Separated Values (.csv)"
   ]
  },
  {
   "cell_type": "markdown",
   "id": "b3ed73e6-19bb-4788-a4da-f24339992c21",
   "metadata": {},
   "source": [
    "### Glen Langston, 2021 October 13"
   ]
  },
  {
   "cell_type": "markdown",
   "id": "dd5afc3d-a67a-4d00-a41b-9d7c7fd6efe9",
   "metadata": {},
   "source": [
    "This notebook shows examples of examining observating files and converting between NSF Astronomy (.ast), Hot load (.hot) and\n",
    "Comma separated values (.csv) files.   Some prefer viewing/processing data in spreadsheet programs, and using"
   ]
  },
  {
   "cell_type": "markdown",
   "id": "f48fcc8c-d34a-4e0e-97a2-4fa2071525d2",
   "metadata": {},
   "source": [
    "To make observations in this format, install the West Virginia University Radio Astronomy Instrumentation Laboratory\n",
    "software available at https://www.github.com/WVURAIL/gr-radio_astro\n",
    "\n",
    "After running this notebook, run the associated notebook _ConvertObsToAst.ipynb_ to convert back to AST files."
   ]
  },
  {
   "cell_type": "code",
   "execution_count": 1,
   "id": "0c022013-b72c-4d3d-af45-10850fe2da3d",
   "metadata": {},
   "outputs": [],
   "source": [
    "# To simpify working with observations in different directories the \"rasnames\"\n",
    "# package will search for .ast and .hot files in lists of directories, as well as a list of\n",
    "# file names\n",
    "import rasnames"
   ]
  },
  {
   "cell_type": "code",
   "execution_count": 2,
   "id": "2c56a57c-53d6-4e51-bc76-31b91b934ae9",
   "metadata": {},
   "outputs": [],
   "source": [
    "# look at all files in the data directory\n",
    "fullnames, nfull = rasnames.splitNames(\"data\", doDebug=False)"
   ]
  },
  {
   "cell_type": "code",
   "execution_count": 3,
   "id": "a057ab23-5a56-40aa-a67d-94169df5819b",
   "metadata": {},
   "outputs": [
    {
     "name": "stdout",
     "output_type": "stream",
     "text": [
      "Last of  44 files is: data/20-11-28T195828.ast\n"
     ]
    }
   ],
   "source": [
    "# get last file name\n",
    "astname = fullnames[nfull-1]\n",
    "if nfull < 1:\n",
    "        print(\"Problem finding files: N=%d\" % (nfull))\n",
    "        print(\"Current Directory: \")\n",
    "        !pwd\n",
    "# now show the file name\n",
    "print(\"Last of % d files is: %s\" % (nfull, astname))"
   ]
  },
  {
   "cell_type": "code",
   "execution_count": 4,
   "id": "c655f3fa-e005-4091-a49e-9ad938054624",
   "metadata": {},
   "outputs": [
    {
     "name": "stdout",
     "output_type": "stream",
     "text": [
      "First of  44 files is: data/20-11-28T180022.hot\n"
     ]
    }
   ],
   "source": [
    "# get first file name, which happens to be a \"Hot\" file\n",
    "hotname = fullnames[0]\n",
    "# now show the file name\n",
    "print(\"First of % d files is: %s\" % (nfull, hotname))"
   ]
  },
  {
   "cell_type": "markdown",
   "id": "9e0728c3-8737-4f81-913e-95de44225d5f",
   "metadata": {},
   "source": [
    "### Files above show: 1) Sample/Spectral channel number, 2) Frequency (Hz), 3) Intensity (Counts)\n",
    "We want to know the system temperature of this telescope.   We assume the earth (ie ground) has a temperature of 290 Kelvin\n",
    "We assume the empty sky has a temperature of 5 Kelvin from the Cosmic Microwave Background and a little bit of Atmosphere"
   ]
  },
  {
   "cell_type": "code",
   "execution_count": 5,
   "id": "1d2a6729-9456-4091-8380-5b139bc22b81",
   "metadata": {},
   "outputs": [],
   "source": [
    "Thot = 290\n",
    "Tcold = 5"
   ]
  },
  {
   "cell_type": "code",
   "execution_count": 6,
   "id": "2d591748-6cfe-41bb-abc8-68dd90b0f612",
   "metadata": {},
   "outputs": [
    {
     "name": "stdout",
     "output_type": "stream",
     "text": [
      "['0964 1421767578 997.8760']\n"
     ]
    }
   ],
   "source": [
    "# get one set of hot values\n",
    "hotvalues = ! head -1024 {hotname} | tail -1\n",
    "print(hotvalues)"
   ]
  },
  {
   "cell_type": "code",
   "execution_count": 7,
   "id": "bafa0013-b84a-439d-a47e-7317786f401b",
   "metadata": {},
   "outputs": [
    {
     "name": "stdout",
     "output_type": "stream",
     "text": [
      "['0964 1421767578 432.7318']\n"
     ]
    }
   ],
   "source": [
    "# get one set of cold values\n",
    "astvalues = ! head -1024 {astname} | tail -1\n",
    "print(astvalues)"
   ]
  },
  {
   "cell_type": "markdown",
   "id": "047c3544-3111-45be-a73a-4841cced696b",
   "metadata": {},
   "source": [
    " ### Now that hot and cold intensities are available, Calculate the system temperature for one channel"
   ]
  },
  {
   "cell_type": "code",
   "execution_count": 8,
   "id": "c7e66337-33a4-46ae-9b96-ea2ca8273717",
   "metadata": {},
   "outputs": [],
   "source": [
    "# Select out the hot and cold intensities from the files\n",
    "hotstr = hotvalues[0]\n",
    "hotparts = hotstr.split()\n",
    "#print(hotparts)\n",
    "Nhot = float(hotparts[2])\n",
    "aststr = astvalues[0]\n",
    "astparts = aststr.split()\n",
    "#print(astparts)  # diagnosis not needed now\n",
    "Ncold = float(astparts[2])"
   ]
  },
  {
   "cell_type": "markdown",
   "id": "c48662ec-2421-4756-8c84-c58dbecfdc86",
   "metadata": {},
   "source": [
    "# The calibration is done using the \"Y-value\" method.\n",
    "Where Y: ratio of hot-load-counts over cold-sky-counts.  \n",
    "This Y ratio is independent of the gain of the system.\n",
    "\n",
    "This method is documented on the web.  Ie for example see:\n",
    "https://www.testworld.com/wp-content/uploads/noise-figure-measurement-accuracy-the-y-factor-method.pdf\n"
   ]
  },
  {
   "cell_type": "code",
   "execution_count": 10,
   "id": "7aeee99a-6df1-463c-b820-75195087ec49",
   "metadata": {},
   "outputs": [
    {
     "name": "stdout",
     "output_type": "stream",
     "text": [
      "Y:   2.306 => Tsys =    213.225 K\n"
     ]
    }
   ],
   "source": [
    "# The calibration is done using the \"Y-value\" system\n",
    "Y = Nhot/Ncold\n",
    "Tsys = (Thot - (Y * Tcold)) / (Y - 1.)\n",
    "print(\"Y: %7.3f => Tsys = %10.3f K\" % (Y, Tsys))"
   ]
  },
  {
   "cell_type": "markdown",
   "id": "833795bc-580e-4f85-9f12-3ce4e5ded5d5",
   "metadata": {},
   "source": [
    "## You've found the Sensitivity of this telescope is good enough for great observations of the Milky Way!\n",
    "For the example observation, the system temperature is roughly 200 Kelvins, which\n",
    "is sufficiently low that the Milky Way is easily detected by telescopes."
   ]
  },
  {
   "cell_type": "markdown",
   "id": "fb861345-1548-4bd1-8500-e65ceb58a5e8",
   "metadata": {},
   "source": [
    " ### Now load observing file conversion programs"
   ]
  },
  {
   "cell_type": "code",
   "execution_count": 11,
   "id": "27cf920a-3e01-4534-9245-193c9d106e0e",
   "metadata": {},
   "outputs": [],
   "source": [
    "# Now import the conversion routines\n",
    "import convertobs"
   ]
  },
  {
   "cell_type": "code",
   "execution_count": 12,
   "id": "f738d228-09d8-4a02-9014-3000ff6b3c35",
   "metadata": {},
   "outputs": [
    {
     "name": "stdout",
     "output_type": "stream",
     "text": [
      "New files created: 44; data/20-11-28T180022.csv to data/20-11-28T195828.csv\n"
     ]
    }
   ],
   "source": [
    "newnames, nnew = convertobs.toCsv(fullnames)\n",
    "print(\"New files created: %d; %s to %s\" % (nnew, newnames[0], newnames[nnew-1]))"
   ]
  },
  {
   "cell_type": "code",
   "execution_count": 13,
   "id": "255580b6-f352-4024-a777-bd7bc2874e88",
   "metadata": {},
   "outputs": [
    {
     "name": "stdout",
     "output_type": "stream",
     "text": [
      "#,        , File: 20-11-28T180022.hot\n",
      "#,NOTEA   , RSP1A+GPIOLabs Pi #1 On Horn\n",
      "#,NOTEB   , Sdrplay 8 MHz Test\n",
      "#,OBSERVER, Science Aficionado\n",
      "#,DEVICE  , SDRPlay RSP1A\n",
      "#,DATADIR , ../data/\n",
      "#,SITE    , RSP1A+GPIOLabs Pi #1 On Horn\n",
      "#,CITY    , Green Bank\n",
      "#,REGION  , West Virginia\n",
      "#,COUNTRY , US\n"
     ]
    }
   ],
   "source": [
    "# now look at the file header\n",
    "!head -10 {newnames[0]}"
   ]
  },
  {
   "cell_type": "code",
   "execution_count": 14,
   "id": "fdd2a890-e741-4a70-bb13-2217865f8dbb",
   "metadata": {},
   "outputs": [
    {
     "name": "stdout",
     "output_type": "stream",
     "text": [
      "['0964,  1421767578,  997.8760']\n"
     ]
    }
   ],
   "source": [
    "# now look at the data \n",
    "astvalues = ! head -1024 {newnames[0]} | tail -1\n",
    "print(astvalues)"
   ]
  },
  {
   "cell_type": "markdown",
   "id": "fe93449a-2a8b-43a3-8705-cd6e244b00ad",
   "metadata": {
    "tags": []
   },
   "source": [
    "## You've now examined the raw observing files for a Horn Radio Telescope and converted Astronomy format (.ast and .hot) data into Comma-Separted-Values (.csv) ASCII format for processing inside of spreadsheets.\n",
    "## You've also found the sensitivity of this horn radio telescope is good enough for observations of the Milky Way.\n",
    "\n"
   ]
  },
  {
   "cell_type": "code",
   "execution_count": 15,
   "id": "7ac7cd00-0650-4343-8333-a84c45516226",
   "metadata": {},
   "outputs": [
    {
     "name": "stdout",
     "output_type": "stream",
     "text": [
      "Creating directory 'converted'\n"
     ]
    }
   ],
   "source": [
    "# select a new directory name\n",
    "outdir = \"converted\"\n",
    "# use the shell command to create the directory\n",
    "import os\n",
    "if os.path.isdir(outdir):\n",
    "    print(\"Directory '%s' already exists\" % (outdir))\n",
    "else:\n",
    "    print(\"Creating directory '%s'\" % (outdir))\n",
    "    !mkdir {outdir}\n",
    "# now for all converted files\n",
    "for iii in range(len(newnames)):\n",
    "    aname = newnames[iii]\n",
    "    # if file has not already been moved\n",
    "    if os.path.isfile(aname):\n",
    "        ! mv {aname} {outdir}\n",
    "# end for all files converted"
   ]
  },
  {
   "cell_type": "markdown",
   "id": "2e50c835-48e6-4848-8d1e-3a947d4b4751",
   "metadata": {},
   "source": [
    "## You've converted observing files to .csv format and moved them to a new directory you created.\n",
    "# Congratulations!"
   ]
  },
  {
   "cell_type": "code",
   "execution_count": null,
   "id": "5a681e45-ed39-4113-947d-9f5578b069e4",
   "metadata": {},
   "outputs": [],
   "source": []
  }
 ],
 "metadata": {
  "kernelspec": {
   "display_name": "Python 3 (ipykernel)",
   "language": "python",
   "name": "python3"
  },
  "language_info": {
   "codemirror_mode": {
    "name": "ipython",
    "version": 3
   },
   "file_extension": ".py",
   "mimetype": "text/x-python",
   "name": "python",
   "nbconvert_exporter": "python",
   "pygments_lexer": "ipython3",
   "version": "3.9.4"
  }
 },
 "nbformat": 4,
 "nbformat_minor": 5
}
