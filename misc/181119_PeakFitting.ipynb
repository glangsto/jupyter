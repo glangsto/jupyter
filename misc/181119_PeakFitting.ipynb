{
 "cells": [
  {
   "cell_type": "code",
   "execution_count": 1,
   "metadata": {},
   "outputs": [],
   "source": [
    "import matplotlib\n",
    "import matplotlib.pyplot as plt\n",
    "import numpy as np\n",
    "import scipy as scipy\n",
    "from scipy import optimize\n",
    "from matplotlib.ticker import AutoMinorLocator\n",
    "from matplotlib import gridspec\n",
    "import matplotlib.ticker as ticker\n",
    "%matplotlib inline"
   ]
  },
  {
   "cell_type": "markdown",
   "metadata": {},
   "source": [
    "# Single Gaussian Peak Fitting"
   ]
  },
  {
   "cell_type": "code",
   "execution_count": 2,
   "metadata": {},
   "outputs": [],
   "source": [
    "# linearly spaced x-axis of 10 values between 1 and 10\n",
    "x_array = np.linspace(1,100,50)\n",
    "\n",
    "amp1 = 100\n",
    "sigma1 = 10\n",
    "cen1 = 50\n",
    "y_array_gauss = amp1*(1/(sigma1*(np.sqrt(2*np.pi))))*(np.exp((-1.0/2.0)*(((x_array-cen1)/sigma1)**2)))\n",
    "\n",
    "# creating some noise to add the the y-axis data\n",
    "y_noise_gauss = (np.exp((np.random.ranf(50))))/5\n",
    "y_array_gauss += y_noise_gauss"
   ]
  },
  {
   "cell_type": "code",
   "execution_count": 3,
   "metadata": {},
   "outputs": [
    {
     "data": {
      "image/png": "[encoded data removed]",
      "text/plain": [
       "<Figure size 288x216 with 1 Axes>"
      ]
     },
     "metadata": {
      "needs_background": "light"
     },
     "output_type": "display_data"
    }
   ],
   "source": [
    "fig = plt.figure(figsize=(4,3))\n",
    "gs = gridspec.GridSpec(1,1)\n",
    "ax1 = fig.add_subplot(gs[0])\n",
    "\n",
    "ax1.plot(x_array, y_array_gauss, \"ro\")\n",
    "\n",
    "ax1.set_xlim(-5,105)\n",
    "ax1.set_ylim(-0.5,5)\n",
    "\n",
    "ax1.set_xlabel(\"x_array\",family=\"serif\",  fontsize=12)\n",
    "ax1.set_ylabel(\"y_array\",family=\"serif\",  fontsize=12)\n",
    "\n",
    "ax1.xaxis.set_major_locator(ticker.MultipleLocator(20))\n",
    "#ax1.yaxis.set_major_locator(ticker.MultipleLocator(50))\n",
    "\n",
    "ax1.xaxis.set_minor_locator(AutoMinorLocator(2))\n",
    "ax1.yaxis.set_minor_locator(AutoMinorLocator(2))\n",
    "\n",
    "ax1.tick_params(axis='both',which='major', direction=\"out\", top=\"on\", right=\"on\", bottom=\"on\", length=8, labelsize=8)\n",
    "ax1.tick_params(axis='both',which='minor', direction=\"out\", top=\"on\", right=\"on\", bottom=\"on\", length=5, labelsize=8)\n",
    "\n",
    "fig.tight_layout()\n",
    "fig.savefig(\"rawGaussian.png\", format=\"png\",dpi=1000)"
   ]
  },
  {
   "cell_type": "code",
   "execution_count": 4,
   "metadata": {},
   "outputs": [],
   "source": [
    "def _1gaussian(x, amp1,cen1,sigma1):\n",
    "    return amp1*(1/(sigma1*(np.sqrt(2*np.pi))))*(np.exp((-1.0/2.0)*(((x_array-cen1)/sigma1)**2)))"
   ]
  },
  {
   "cell_type": "code",
   "execution_count": 5,
   "metadata": {},
   "outputs": [],
   "source": [
    "popt_gauss, pcov_gauss = scipy.optimize.curve_fit(_1gaussian, x_array, y_array_gauss, p0=[amp1, cen1, sigma1])\n",
    "\n",
    "perr_gauss = np.sqrt(np.diag(pcov_gauss))"
   ]
  },
  {
   "cell_type": "code",
   "execution_count": 7,
   "metadata": {},
   "outputs": [
    {
     "name": "stdout",
     "output_type": "stream",
     "text": [
      "amplitude = 119.42 (+/-) 2.64\n",
      "center = 50.10 (+/-) 0.29\n",
      "sigma = 11.22 (+/-) 0.29\n"
     ]
    }
   ],
   "source": [
    "# this cell prints the fitting parameters with their errors\n",
    "print (\"amplitude = %0.2f (+/-) %0.2f\" % (popt_gauss[0], perr_gauss[0]))\n",
    "print (\"center = %0.2f (+/-) %0.2f\" % (popt_gauss[1], perr_gauss[1]))\n",
    "print (\"sigma = %0.2f (+/-) %0.2f\" % (popt_gauss[2], perr_gauss[2]))"
   ]
  },
  {
   "cell_type": "code",
   "execution_count": 8,
   "metadata": {},
   "outputs": [
    {
     "name": "stderr",
     "output_type": "stream",
     "text": [
      "No handles with labels found to put in legend.\n"
     ]
    },
    {
     "data": {
      "image/png": "[encoded data removed]",
      "text/plain": [
       "<Figure size 288x216 with 1 Axes>"
      ]
     },
     "metadata": {
      "needs_background": "light"
     },
     "output_type": "display_data"
    }
   ],
   "source": [
    "fig = plt.figure(figsize=(4,3))\n",
    "gs = gridspec.GridSpec(1,1)\n",
    "ax1 = fig.add_subplot(gs[0])\n",
    "\n",
    "ax1.plot(x_array, y_array_gauss, \"ro\")\n",
    "ax1.plot(x_array, _1gaussian(x_array, *popt_gauss), 'k--')#,\\\n",
    "         #label=\"y= %0.2f$e^{%0.2fx}$ + %0.2f\" % (popt_exponential[0], popt_exponential[1], popt_exponential[2]))\n",
    "\n",
    "ax1.set_xlim(-5,105)\n",
    "ax1.set_ylim(-0.5,5)\n",
    "\n",
    "ax1.set_xlabel(\"x_array\",family=\"serif\",  fontsize=12)\n",
    "ax1.set_ylabel(\"y_array\",family=\"serif\",  fontsize=12)\n",
    "\n",
    "ax1.legend(loc=\"best\")\n",
    "\n",
    "ax1.xaxis.set_major_locator(ticker.MultipleLocator(20))\n",
    "#ax1.yaxis.set_major_locator(ticker.MultipleLocator(50))\n",
    "\n",
    "ax1.xaxis.set_minor_locator(AutoMinorLocator(2))\n",
    "ax1.yaxis.set_minor_locator(AutoMinorLocator(2))\n",
    "\n",
    "ax1.tick_params(axis='both',which='major', direction=\"out\", top=\"on\", right=\"on\", bottom=\"on\", length=8, labelsize=8)\n",
    "ax1.tick_params(axis='both',which='minor', direction=\"out\", top=\"on\", right=\"on\", bottom=\"on\", length=5, labelsize=8)\n",
    "\n",
    "fig.tight_layout()\n",
    "fig.savefig(\"fitGaussian.png\", format=\"png\",dpi=1000)"
   ]
  },
  {
   "cell_type": "markdown",
   "metadata": {},
   "source": [
    "# Multiple Gaussian Peak Fitting"
   ]
  },
  {
   "cell_type": "code",
   "execution_count": 9,
   "metadata": {},
   "outputs": [],
   "source": [
    "amp1 = 100\n",
    "sigma1 = 10\n",
    "cen1 = 40\n",
    "\n",
    "amp2 = 75\n",
    "sigma2 = 5\n",
    "cen2 = 65\n",
    "\n",
    "y_array_2gauss = amp1*(1/(sigma1*(np.sqrt(2*np.pi))))*(np.exp((-1.0/2.0)*(((x_array-cen1)/sigma1)**2))) + \\\n",
    "                amp2*(1/(sigma2*(np.sqrt(2*np.pi))))*(np.exp((-1.0/2.0)*(((x_array-cen2)/sigma2)**2)))\n",
    "\n",
    "# creating some noise to add the the y-axis data\n",
    "y_noise_2gauss = (np.exp((np.random.ranf(50))))/5\n",
    "y_array_2gauss += y_noise_2gauss"
   ]
  },
  {
   "cell_type": "code",
   "execution_count": 10,
   "metadata": {},
   "outputs": [
    {
     "data": {
      "image/png": "[encoded data removed]",
      "text/plain": [
       "<Figure size 288x216 with 1 Axes>"
      ]
     },
     "metadata": {
      "needs_background": "light"
     },
     "output_type": "display_data"
    }
   ],
   "source": [
    "fig = plt.figure(figsize=(4,3))\n",
    "gs = gridspec.GridSpec(1,1)\n",
    "ax1 = fig.add_subplot(gs[0])\n",
    "\n",
    "ax1.plot(x_array, y_array_2gauss, \"ro\")\n",
    "\n",
    "ax1.set_xlim(-5,105)\n",
    "ax1.set_ylim(-0.5,8)\n",
    "\n",
    "ax1.set_xlabel(\"x_array\",family=\"serif\",  fontsize=12)\n",
    "ax1.set_ylabel(\"y_array\",family=\"serif\",  fontsize=12)\n",
    "\n",
    "ax1.xaxis.set_major_locator(ticker.MultipleLocator(20))\n",
    "#ax1.yaxis.set_major_locator(ticker.MultipleLocator(50))\n",
    "\n",
    "ax1.xaxis.set_minor_locator(AutoMinorLocator(2))\n",
    "ax1.yaxis.set_minor_locator(AutoMinorLocator(2))\n",
    "\n",
    "ax1.tick_params(axis='both',which='major', direction=\"out\", top=\"on\", right=\"on\", bottom=\"on\", length=8, labelsize=8)\n",
    "ax1.tick_params(axis='both',which='minor', direction=\"out\", top=\"on\", right=\"on\", bottom=\"on\", length=5, labelsize=8)\n",
    "\n",
    "fig.tight_layout()\n",
    "fig.savefig(\"raw2Gaussian.png\", format=\"png\",dpi=1000)"
   ]
  },
  {
   "cell_type": "code",
   "execution_count": 11,
   "metadata": {},
   "outputs": [],
   "source": [
    "def _2gaussian(x, amp1,cen1,sigma1, amp2,cen2,sigma2):\n",
    "    return amp1*(1/(sigma1*(np.sqrt(2*np.pi))))*(np.exp((-1.0/2.0)*(((x_array-cen1)/sigma1)**2))) + \\\n",
    "            amp2*(1/(sigma2*(np.sqrt(2*np.pi))))*(np.exp((-1.0/2.0)*(((x_array-cen2)/sigma2)**2)))"
   ]
  },
  {
   "cell_type": "code",
   "execution_count": 12,
   "metadata": {},
   "outputs": [],
   "source": [
    "popt_2gauss, pcov_2gauss = scipy.optimize.curve_fit(_2gaussian, x_array, y_array_2gauss, p0=[amp1, cen1, sigma1, \\\n",
    "                                                                                          amp2, cen2, sigma2])\n",
    "\n",
    "perr_2gauss = np.sqrt(np.diag(pcov_2gauss))\n",
    "\n",
    "pars_1 = popt_2gauss[0:3]\n",
    "pars_2 = popt_2gauss[3:6]\n",
    "gauss_peak_1 = _1gaussian(x_array, *pars_1)\n",
    "gauss_peak_2 = _1gaussian(x_array, *pars_2)"
   ]
  },
  {
   "cell_type": "code",
   "execution_count": 13,
   "metadata": {},
   "outputs": [
    {
     "name": "stderr",
     "output_type": "stream",
     "text": [
      "No handles with labels found to put in legend.\n"
     ]
    },
    {
     "data": {
      "image/png": "[encoded data removed]",
      "text/plain": [
       "<Figure size 288x216 with 1 Axes>"
      ]
     },
     "metadata": {
      "needs_background": "light"
     },
     "output_type": "display_data"
    }
   ],
   "source": [
    "fig = plt.figure(figsize=(4,3))\n",
    "gs = gridspec.GridSpec(1,1)\n",
    "ax1 = fig.add_subplot(gs[0])\n",
    "\n",
    "ax1.plot(x_array, y_array_2gauss, \"ro\")\n",
    "ax1.plot(x_array, _2gaussian(x_array, *popt_2gauss), 'k--')#,\\\n",
    "         #label=\"y= %0.2f$e^{%0.2fx}$ + %0.2f\" % (popt_exponential[0], popt_exponential[1], popt_exponential[2]))\n",
    "    \n",
    "ax1.set_xlim(-5,105)\n",
    "ax1.set_ylim(-0.5,8)\n",
    "\n",
    "ax1.set_xlabel(\"x_array\",family=\"serif\",  fontsize=12)\n",
    "ax1.set_ylabel(\"y_array\",family=\"serif\",  fontsize=12)\n",
    "\n",
    "ax1.legend(loc=\"best\")\n",
    "\n",
    "ax1.xaxis.set_major_locator(ticker.MultipleLocator(20))\n",
    "#ax1.yaxis.set_major_locator(ticker.MultipleLocator(50))\n",
    "\n",
    "ax1.xaxis.set_minor_locator(AutoMinorLocator(2))\n",
    "ax1.yaxis.set_minor_locator(AutoMinorLocator(2))\n",
    "\n",
    "ax1.tick_params(axis='both',which='major', direction=\"out\", top=\"on\", right=\"on\", bottom=\"on\", length=8, labelsize=8)\n",
    "ax1.tick_params(axis='both',which='minor', direction=\"out\", top=\"on\", right=\"on\", bottom=\"on\", length=5, labelsize=8)\n",
    "\n",
    "fig.tight_layout()\n",
    "fig.savefig(\"fit2Gaussian.png\", format=\"png\",dpi=1000)"
   ]
  },
  {
   "cell_type": "code",
   "execution_count": 14,
   "metadata": {},
   "outputs": [
    {
     "name": "stderr",
     "output_type": "stream",
     "text": [
      "No handles with labels found to put in legend.\n"
     ]
    },
    {
     "data": {
      "image/png": "[encoded data removed]",
      "text/plain": [
       "<Figure size 288x216 with 1 Axes>"
      ]
     },
     "metadata": {
      "needs_background": "light"
     },
     "output_type": "display_data"
    }
   ],
   "source": [
    "fig = plt.figure(figsize=(4,3))\n",
    "gs = gridspec.GridSpec(1,1)\n",
    "ax1 = fig.add_subplot(gs[0])\n",
    "\n",
    "ax1.plot(x_array, y_array_2gauss, \"ro\")\n",
    "ax1.plot(x_array, _2gaussian(x_array, *popt_2gauss), 'k--')#,\\\n",
    "         #label=\"y= %0.2f$e^{%0.2fx}$ + %0.2f\" % (popt_exponential[0], popt_exponential[1], popt_exponential[2]))\n",
    "\n",
    "# peak 1\n",
    "ax1.plot(x_array, gauss_peak_1, \"g\")\n",
    "ax1.fill_between(x_array, gauss_peak_1.min(), gauss_peak_1, facecolor=\"green\", alpha=0.5)\n",
    "  \n",
    "# peak 2\n",
    "ax1.plot(x_array, gauss_peak_2, \"y\")\n",
    "ax1.fill_between(x_array, gauss_peak_2.min(), gauss_peak_2, facecolor=\"yellow\", alpha=0.5)  \n",
    "    \n",
    "ax1.set_xlim(-5,105)\n",
    "ax1.set_ylim(-0.5,8)\n",
    "\n",
    "ax1.set_xlabel(\"x_array\",family=\"serif\",  fontsize=12)\n",
    "ax1.set_ylabel(\"y_array\",family=\"serif\",  fontsize=12)\n",
    "\n",
    "ax1.legend(loc=\"best\")\n",
    "\n",
    "ax1.xaxis.set_major_locator(ticker.MultipleLocator(20))\n",
    "#ax1.yaxis.set_major_locator(ticker.MultipleLocator(50))\n",
    "\n",
    "ax1.xaxis.set_minor_locator(AutoMinorLocator(2))\n",
    "ax1.yaxis.set_minor_locator(AutoMinorLocator(2))\n",
    "\n",
    "ax1.tick_params(axis='both',which='major', direction=\"out\", top=\"on\", right=\"on\", bottom=\"on\", length=8, labelsize=8)\n",
    "ax1.tick_params(axis='both',which='minor', direction=\"out\", top=\"on\", right=\"on\", bottom=\"on\", length=5, labelsize=8)\n",
    "\n",
    "fig.tight_layout()\n",
    "fig.savefig(\"fit2Gaussian_peaks.png\", format=\"png\",dpi=1000)"
   ]
  },
  {
   "cell_type": "code",
   "execution_count": 15,
   "metadata": {},
   "outputs": [
    {
     "ename": "SyntaxError",
     "evalue": "Missing parentheses in call to 'print'. Did you mean print(\"-------------Peak 1-------------\")? (3699861299.py, line 2)",
     "output_type": "error",
     "traceback": [
      "\u001b[0;36m  File \u001b[0;32m\"/var/folders/96/rhbt36p17wv8ygtf_zjg96zr0000gp/T/ipykernel_14543/3699861299.py\"\u001b[0;36m, line \u001b[0;32m2\u001b[0m\n\u001b[0;31m    print \"-------------Peak 1-------------\"\u001b[0m\n\u001b[0m          ^\u001b[0m\n\u001b[0;31mSyntaxError\u001b[0m\u001b[0;31m:\u001b[0m Missing parentheses in call to 'print'. Did you mean print(\"-------------Peak 1-------------\")?\n"
     ]
    }
   ],
   "source": [
    "# this cell prints the fitting parameters with their errors\n",
    "print \"-------------Peak 1-------------\"\n",
    "print \"amplitude = %0.2f (+/-) %0.2f\" % (pars_1[0], perr_2gauss[0])\n",
    "print \"center = %0.2f (+/-) %0.2f\" % (pars_1[1], perr_2gauss[1])\n",
    "print \"sigma = %0.2f (+/-) %0.2f\" % (pars_1[2], perr_2gauss[2])\n",
    "print \"area = %0.2f\" % np.trapz(gauss_peak_1)\n",
    "print \"--------------------------------\"\n",
    "print \"-------------Peak 2-------------\"\n",
    "print \"amplitude = %0.2f (+/-) %0.2f\" % (pars_2[0], perr_2gauss[3])\n",
    "print \"center = %0.2f (+/-) %0.2f\" % (pars_2[1], perr_2gauss[4])\n",
    "print \"sigma = %0.2f (+/-) %0.2f\" % (pars_2[2], perr_2gauss[5])\n",
    "print \"area = %0.2f\" % np.trapz(gauss_peak_2)\n",
    "print \"--------------------------------\""
   ]
  },
  {
   "cell_type": "code",
   "execution_count": 16,
   "metadata": {},
   "outputs": [],
   "source": [
    "residual_2gauss = y_array_2gauss - (_2gaussian(x_array, *popt_2gauss))"
   ]
  },
  {
   "cell_type": "code",
   "execution_count": 17,
   "metadata": {},
   "outputs": [
    {
     "name": "stderr",
     "output_type": "stream",
     "text": [
      "No handles with labels found to put in legend.\n"
     ]
    },
    {
     "data": {
      "image/png": "[encoded data removed]",
      "text/plain": [
       "<Figure size 288x288 with 2 Axes>"
      ]
     },
     "metadata": {
      "needs_background": "light"
     },
     "output_type": "display_data"
    }
   ],
   "source": [
    "fig = plt.figure(figsize=(4,4))\n",
    "gs = gridspec.GridSpec(2,1, height_ratios=[1,0.25])\n",
    "ax1 = fig.add_subplot(gs[0])\n",
    "ax2 = fig.add_subplot(gs[1])\n",
    "gs.update(hspace=0) \n",
    "\n",
    "ax1.plot(x_array, y_array_2gauss, \"ro\")\n",
    "ax1.plot(x_array, _2gaussian(x_array, *popt_2gauss), 'k--')#,\\\n",
    "         #label=\"y= %0.2f$e^{%0.2fx}$ + %0.2f\" % (popt_exponential[0], popt_exponential[1], popt_exponential[2]))\n",
    "\n",
    "# peak 1\n",
    "ax1.plot(x_array, gauss_peak_1, \"g\")\n",
    "ax1.fill_between(x_array, gauss_peak_1.min(), gauss_peak_1, facecolor=\"green\", alpha=0.5)\n",
    "  \n",
    "# peak 2\n",
    "ax1.plot(x_array, gauss_peak_2, \"y\")\n",
    "ax1.fill_between(x_array, gauss_peak_2.min(), gauss_peak_2, facecolor=\"yellow\", alpha=0.5)  \n",
    "\n",
    "# residual\n",
    "ax2.plot(x_array, residual_2gauss, \"bo\")\n",
    "    \n",
    "ax1.set_xlim(-5,105)\n",
    "ax1.set_ylim(-0.5,8)\n",
    "\n",
    "ax2.set_xlim(-5,105)\n",
    "ax2.set_ylim(-0.5,0.75)\n",
    "\n",
    "ax2.set_xlabel(\"x_array\",family=\"serif\",  fontsize=12)\n",
    "ax1.set_ylabel(\"y_array\",family=\"serif\",  fontsize=12)\n",
    "ax2.set_ylabel(\"Res.\",family=\"serif\",  fontsize=12)\n",
    "\n",
    "ax1.legend(loc=\"best\")\n",
    "\n",
    "ax1.xaxis.set_major_locator(ticker.MultipleLocator(20))\n",
    "#ax1.yaxis.set_major_locator(ticker.MultipleLocator(50))\n",
    "\n",
    "ax2.xaxis.set_minor_locator(AutoMinorLocator(2))\n",
    "ax1.yaxis.set_minor_locator(AutoMinorLocator(2))\n",
    "\n",
    "ax1.xaxis.set_major_formatter(plt.NullFormatter())\n",
    "\n",
    "ax1.tick_params(axis='x',which='major', direction=\"out\", top=\"on\", right=\"on\", bottom=\"off\", length=8, labelsize=8)\n",
    "ax1.tick_params(axis='x',which='minor', direction=\"out\", top=\"on\", right=\"on\", bottom=\"off\", length=5, labelsize=8)\n",
    "ax1.tick_params(axis='y',which='major', direction=\"out\", top=\"on\", right=\"on\", bottom=\"off\", length=8, labelsize=8)\n",
    "ax1.tick_params(axis='y',which='minor', direction=\"out\", top=\"on\", right=\"on\", bottom=\"on\", length=5, labelsize=8)\n",
    "\n",
    "ax2.tick_params(axis='x',which='major', direction=\"out\", top=\"off\", right=\"on\", bottom=\"on\", length=8, labelsize=8)\n",
    "ax2.tick_params(axis='x',which='minor', direction=\"out\", top=\"off\", right=\"on\", bottom=\"on\", length=5, labelsize=8)\n",
    "ax2.tick_params(axis='y',which='major', direction=\"out\", top=\"off\", right=\"on\", bottom=\"on\", length=8, labelsize=8)\n",
    "ax2.tick_params(axis='y',which='minor', direction=\"out\", top=\"off\", right=\"on\", bottom=\"on\", length=5, labelsize=8)\n",
    "\n",
    "fig.tight_layout()\n",
    "fig.savefig(\"fit2Gaussian_peaks_resid.png\", format=\"png\",dpi=1000)"
   ]
  },
  {
   "cell_type": "markdown",
   "metadata": {},
   "source": [
    "# Lorentzian Peak Fitting"
   ]
  },
  {
   "cell_type": "code",
   "execution_count": 18,
   "metadata": {},
   "outputs": [],
   "source": [
    "x_array = np.linspace(1,300,250)\n",
    "\n",
    "amp1 = 50\n",
    "cen1 = 100\n",
    "wid1 = 5\n",
    "\n",
    "amp2 = 100\n",
    "cen2 = 150\n",
    "wid2 = 10\n",
    "\n",
    "amp3 = 50\n",
    "cen3 = 200\n",
    "wid3 = 5\n",
    "\n",
    "y_array_3lorentz = (amp1*wid1**2/((x_array-cen1)**2+wid1**2)) + \\\n",
    "                    (amp2*wid2**2/((x_array-cen2)**2+wid2**2)) +\\\n",
    "                     (amp3*wid3**2/((x_array-cen3)**2+wid3**2))\n",
    "\n",
    "# creating some noise to add the the y-axis data\n",
    "y_noise_3lorentz = (((np.random.ranf(250))))*5\n",
    "y_array_3lorentz += y_noise_3lorentz"
   ]
  },
  {
   "cell_type": "code",
   "execution_count": 19,
   "metadata": {},
   "outputs": [
    {
     "data": {
      "image/png": "[encoded data removed]",
      "text/plain": [
       "<Figure size 288x216 with 1 Axes>"
      ]
     },
     "metadata": {
      "needs_background": "light"
     },
     "output_type": "display_data"
    }
   ],
   "source": [
    "fig = plt.figure(figsize=(4,3))\n",
    "gs = gridspec.GridSpec(1,1)\n",
    "ax1 = fig.add_subplot(gs[0])\n",
    "\n",
    "ax1.plot(x_array, y_array_3lorentz, \"ro\")\n",
    "\n",
    "#ax1.set_xlim(-5,105)\n",
    "#ax1.set_ylim(-0.5,5)\n",
    "\n",
    "ax1.set_xlabel(\"x_array\",family=\"serif\",  fontsize=12)\n",
    "ax1.set_ylabel(\"y_array\",family=\"serif\",  fontsize=12)\n",
    "\n",
    "ax1.xaxis.set_major_locator(ticker.MultipleLocator(50))\n",
    "#ax1.yaxis.set_major_locator(ticker.MultipleLocator(50))\n",
    "\n",
    "ax1.xaxis.set_minor_locator(AutoMinorLocator(2))\n",
    "ax1.yaxis.set_minor_locator(AutoMinorLocator(2))\n",
    "\n",
    "ax1.tick_params(axis='both',which='major', direction=\"out\", top=\"on\", right=\"on\", bottom=\"on\", length=8, labelsize=8)\n",
    "ax1.tick_params(axis='both',which='minor', direction=\"out\", top=\"on\", right=\"on\", bottom=\"on\", length=5, labelsize=8)\n",
    "\n",
    "fig.tight_layout()\n",
    "fig.savefig(\"raw_3Lorentz.png\", format=\"png\",dpi=1000)"
   ]
  },
  {
   "cell_type": "code",
   "execution_count": 20,
   "metadata": {},
   "outputs": [],
   "source": [
    "def _1Lorentzian(x, amp, cen, wid):\n",
    "    return amp*wid**2/((x-cen)**2+wid**2)\n",
    "\n",
    "def _3Lorentzian(x, amp1, cen1, wid1, amp2,cen2,wid2, amp3,cen3,wid3):\n",
    "    return (amp1*wid1**2/((x-cen1)**2+wid1**2)) +\\\n",
    "            (amp2*wid2**2/((x-cen2)**2+wid2**2)) +\\\n",
    "                (amp3*wid3**2/((x-cen3)**2+wid3**2))"
   ]
  },
  {
   "cell_type": "code",
   "execution_count": 21,
   "metadata": {},
   "outputs": [],
   "source": [
    "popt_3lorentz, pcov_3lorentz = scipy.optimize.curve_fit(_3Lorentzian, x_array, y_array_3lorentz, p0=[amp1, cen1, wid1, \\\n",
    "                                                                                    amp2, cen2, wid2, amp3, cen3, wid3])\n",
    "\n",
    "perr_3lorentz = np.sqrt(np.diag(pcov_3lorentz))\n",
    "\n",
    "pars_1 = popt_3lorentz[0:3]\n",
    "pars_2 = popt_3lorentz[3:6]\n",
    "pars_3 = popt_3lorentz[6:9]\n",
    "lorentz_peak_1 = _1Lorentzian(x_array, *pars_1)\n",
    "lorentz_peak_2 = _1Lorentzian(x_array, *pars_2)\n",
    "lorentz_peak_3 = _1Lorentzian(x_array, *pars_3)"
   ]
  },
  {
   "cell_type": "code",
   "execution_count": 23,
   "metadata": {},
   "outputs": [
    {
     "name": "stdout",
     "output_type": "stream",
     "text": [
      "-------------Peak 1-------------\n",
      "amplitude = 51.46 (+/-) 1.19\n",
      "center = 99.97 (+/-) 0.13\n",
      "width = 5.60 (+/-) 0.19\n",
      "area = 734.21\n",
      "--------------------------------\n",
      "-------------Peak 2-------------\n",
      "amplitude = 101.01 (+/-) 0.87\n",
      "center = 150.04 (+/-) 0.09\n",
      "width = 10.58 (+/-) 0.14\n",
      "area = 2670.49\n",
      "--------------------------------\n",
      "-------------Peak 3-------------\n",
      "amplitude = 50.06 (+/-) 1.18\n",
      "center = 199.96 (+/-) 0.13\n",
      "width = 5.69 (+/-) 0.20\n",
      "area = 725.23\n",
      "--------------------------------\n"
     ]
    }
   ],
   "source": [
    "# this cell prints the fitting parameters with their errors\n",
    "print(\"-------------Peak 1-------------\")\n",
    "print(\"amplitude = %0.2f (+/-) %0.2f\" % (pars_1[0], perr_3lorentz[0]))\n",
    "print(\"center = %0.2f (+/-) %0.2f\" % (pars_1[1], perr_3lorentz[1]))\n",
    "print(\"width = %0.2f (+/-) %0.2f\" % (pars_1[2], perr_3lorentz[2]))\n",
    "print(\"area = %0.2f\" % np.trapz(lorentz_peak_1))\n",
    "print(\"--------------------------------\")\n",
    "print(\"-------------Peak 2-------------\")\n",
    "print(\"amplitude = %0.2f (+/-) %0.2f\" % (pars_2[0], perr_3lorentz[3]))\n",
    "print(\"center = %0.2f (+/-) %0.2f\" % (pars_2[1], perr_3lorentz[4]))\n",
    "print(\"width = %0.2f (+/-) %0.2f\" % (pars_2[2], perr_3lorentz[5]))\n",
    "print(\"area = %0.2f\" % np.trapz(lorentz_peak_2))\n",
    "print(\"--------------------------------\")\n",
    "print(\"-------------Peak 3-------------\")\n",
    "print(\"amplitude = %0.2f (+/-) %0.2f\" % (pars_3[0], perr_3lorentz[6]))\n",
    "print(\"center = %0.2f (+/-) %0.2f\" % (pars_3[1], perr_3lorentz[7]))\n",
    "print(\"width = %0.2f (+/-) %0.2f\" % (pars_3[2], perr_3lorentz[8]))\n",
    "print(\"area = %0.2f\" % np.trapz(lorentz_peak_3))\n",
    "print(\"--------------------------------\")"
   ]
  },
  {
   "cell_type": "code",
   "execution_count": 24,
   "metadata": {},
   "outputs": [],
   "source": [
    "residual_3lorentz = y_array_3lorentz - (_3Lorentzian(x_array, *popt_3lorentz))"
   ]
  },
  {
   "cell_type": "code",
   "execution_count": 25,
   "metadata": {},
   "outputs": [
    {
     "name": "stderr",
     "output_type": "stream",
     "text": [
      "No handles with labels found to put in legend.\n"
     ]
    },
    {
     "data": {
      "image/png": "[encoded data removed]",
      "text/plain": [
       "<Figure size 288x288 with 2 Axes>"
      ]
     },
     "metadata": {
      "needs_background": "light"
     },
     "output_type": "display_data"
    }
   ],
   "source": [
    "fig = plt.figure(figsize=(4,4))\n",
    "gs = gridspec.GridSpec(2,1, height_ratios=[1,0.25])\n",
    "ax1 = fig.add_subplot(gs[0])\n",
    "ax2 = fig.add_subplot(gs[1])\n",
    "gs.update(hspace=0) \n",
    "\n",
    "ax1.plot(x_array, y_array_3lorentz, \"ro\")\n",
    "ax1.plot(x_array, _3Lorentzian(x_array, *popt_3lorentz), 'k--')#,\\\n",
    "         #label=\"y= %0.2f$e^{%0.2fx}$ + %0.2f\" % (popt_exponential[0], popt_exponential[1], popt_exponential[2]))\n",
    "\n",
    "# peak 1\n",
    "ax1.plot(x_array, lorentz_peak_1, \"g\")\n",
    "ax1.fill_between(x_array, lorentz_peak_1.min(), lorentz_peak_1, facecolor=\"green\", alpha=0.5)\n",
    "  \n",
    "# peak 2\n",
    "ax1.plot(x_array, lorentz_peak_2, \"y\")\n",
    "ax1.fill_between(x_array, lorentz_peak_2.min(), lorentz_peak_2, facecolor=\"yellow\", alpha=0.5)  \n",
    "\n",
    "# peak 3\n",
    "ax1.plot(x_array, lorentz_peak_3, \"c\")\n",
    "ax1.fill_between(x_array, lorentz_peak_3.min(), lorentz_peak_3, facecolor=\"cyan\", alpha=0.5) \n",
    "\n",
    "# residual\n",
    "ax2.plot(x_array, residual_3lorentz, \"bo\")\n",
    "    \n",
    "#ax1.set_xlim(-5,105)\n",
    "#ax1.set_ylim(-0.5,8)\n",
    "\n",
    "#ax2.set_xlim(-5,105)\n",
    "#ax2.set_ylim(-0.5,0.75)\n",
    "\n",
    "ax2.set_xlabel(\"x_array\",family=\"serif\",  fontsize=12)\n",
    "ax1.set_ylabel(\"y_array\",family=\"serif\",  fontsize=12)\n",
    "ax2.set_ylabel(\"Res.\",family=\"serif\",  fontsize=12)\n",
    "\n",
    "ax1.legend(loc=\"best\")\n",
    "\n",
    "ax1.xaxis.set_major_locator(ticker.MultipleLocator(20))\n",
    "#ax1.yaxis.set_major_locator(ticker.MultipleLocator(50))\n",
    "\n",
    "ax2.xaxis.set_minor_locator(AutoMinorLocator(2))\n",
    "ax1.yaxis.set_minor_locator(AutoMinorLocator(2))\n",
    "\n",
    "ax1.xaxis.set_major_formatter(plt.NullFormatter())\n",
    "\n",
    "ax1.tick_params(axis='x',which='major', direction=\"out\", top=\"on\", right=\"on\", bottom=\"off\", length=8, labelsize=8)\n",
    "ax1.tick_params(axis='x',which='minor', direction=\"out\", top=\"on\", right=\"on\", bottom=\"off\", length=5, labelsize=8)\n",
    "ax1.tick_params(axis='y',which='major', direction=\"out\", top=\"on\", right=\"on\", bottom=\"off\", length=8, labelsize=8)\n",
    "ax1.tick_params(axis='y',which='minor', direction=\"out\", top=\"on\", right=\"on\", bottom=\"on\", length=5, labelsize=8)\n",
    "\n",
    "ax2.tick_params(axis='x',which='major', direction=\"out\", top=\"off\", right=\"on\", bottom=\"on\", length=8, labelsize=8)\n",
    "ax2.tick_params(axis='x',which='minor', direction=\"out\", top=\"off\", right=\"on\", bottom=\"on\", length=5, labelsize=8)\n",
    "ax2.tick_params(axis='y',which='major', direction=\"out\", top=\"off\", right=\"on\", bottom=\"on\", length=8, labelsize=8)\n",
    "ax2.tick_params(axis='y',which='minor', direction=\"out\", top=\"off\", right=\"on\", bottom=\"on\", length=5, labelsize=8)\n",
    "\n",
    "fig.tight_layout()\n",
    "fig.savefig(\"fit3Lorentzian_peaks_resid.png\", format=\"png\",dpi=1000)"
   ]
  },
  {
   "cell_type": "markdown",
   "metadata": {},
   "source": [
    "# Voigt Peak Fitting"
   ]
  },
  {
   "cell_type": "code",
   "execution_count": 26,
   "metadata": {},
   "outputs": [],
   "source": [
    "x_array = np.linspace(1,100,50)\n",
    "\n",
    "ampG1 = 20\n",
    "cenG1 = 50\n",
    "sigmaG1 = 5\n",
    "ampL1 = 80\n",
    "cenL1 = 50\n",
    "widL1 = 5\n",
    "\n",
    "y_array_voigt = (ampG1*(1/(sigmaG1*(np.sqrt(2*np.pi))))*(np.exp(-((x_array-cenG1)**2)/((2*sigmaG1)**2)))) +\\\n",
    "                ((ampL1*widL1**2/((x_array-cenL1)**2+widL1**2)) )\n",
    "\n",
    "# creating some noise to add the the y-axis data\n",
    "y_noise_voigt = (((np.random.ranf(50))))*5\n",
    "y_array_voigt += y_noise_voigt"
   ]
  },
  {
   "cell_type": "code",
   "execution_count": 27,
   "metadata": {},
   "outputs": [
    {
     "data": {
      "image/png": "[encoded data removed]",
      "text/plain": [
       "<Figure size 288x216 with 1 Axes>"
      ]
     },
     "metadata": {
      "needs_background": "light"
     },
     "output_type": "display_data"
    }
   ],
   "source": [
    "fig = plt.figure(figsize=(4,3))\n",
    "gs = gridspec.GridSpec(1,1)\n",
    "ax1 = fig.add_subplot(gs[0])\n",
    "\n",
    "ax1.plot(x_array, y_array_voigt, \"ro\")\n",
    "\n",
    "#ax1.set_xlim(-5,105)\n",
    "#ax1.set_ylim(-0.5,5)\n",
    "\n",
    "ax1.set_xlabel(\"x_array\",family=\"serif\",  fontsize=12)\n",
    "ax1.set_ylabel(\"y_array\",family=\"serif\",  fontsize=12)\n",
    "\n",
    "ax1.xaxis.set_major_locator(ticker.MultipleLocator(50))\n",
    "#ax1.yaxis.set_major_locator(ticker.MultipleLocator(50))\n",
    "\n",
    "ax1.xaxis.set_minor_locator(AutoMinorLocator(2))\n",
    "ax1.yaxis.set_minor_locator(AutoMinorLocator(2))\n",
    "\n",
    "ax1.tick_params(axis='both',which='major', direction=\"out\", top=\"on\", right=\"on\", bottom=\"on\", length=8, labelsize=8)\n",
    "ax1.tick_params(axis='both',which='minor', direction=\"out\", top=\"on\", right=\"on\", bottom=\"on\", length=5, labelsize=8)\n",
    "\n",
    "fig.tight_layout()\n",
    "fig.savefig(\"raw_voigt.png\", format=\"png\",dpi=1000)"
   ]
  },
  {
   "cell_type": "code",
   "execution_count": 28,
   "metadata": {},
   "outputs": [],
   "source": [
    "def _1Voigt(x, ampG1, cenG1, sigmaG1, ampL1, cenL1, widL1):\n",
    "    return (ampG1*(1/(sigmaG1*(np.sqrt(2*np.pi))))*(np.exp(-((x-cenG1)**2)/((2*sigmaG1)**2)))) +\\\n",
    "              ((ampL1*widL1**2/((x-cenL1)**2+widL1**2)) )"
   ]
  },
  {
   "cell_type": "code",
   "execution_count": 29,
   "metadata": {},
   "outputs": [],
   "source": [
    "popt_1voigt, pcov_1voigt = scipy.optimize.curve_fit(_1Voigt, x_array, y_array_voigt, p0=[ampG1, cenG1, sigmaG1, \\\n",
    "                                                                                         ampL1, cenL1, widL1])\n",
    "\n",
    "perr_1voigt = np.sqrt(np.diag(pcov_1voigt))\n",
    "\n",
    "pars_1 = popt_1voigt\n",
    "voigt_peak_1 = _1Voigt(x_array, *pars_1)"
   ]
  },
  {
   "cell_type": "code",
   "execution_count": 30,
   "metadata": {},
   "outputs": [],
   "source": [
    "residual_1voigt = y_array_voigt - (_1Voigt(x_array, *popt_1voigt))"
   ]
  },
  {
   "cell_type": "code",
   "execution_count": 31,
   "metadata": {},
   "outputs": [
    {
     "name": "stderr",
     "output_type": "stream",
     "text": [
      "No handles with labels found to put in legend.\n"
     ]
    },
    {
     "data": {
      "image/png": "[encoded data removed]",
      "text/plain": [
       "<Figure size 288x288 with 2 Axes>"
      ]
     },
     "metadata": {
      "needs_background": "light"
     },
     "output_type": "display_data"
    }
   ],
   "source": [
    "fig = plt.figure(figsize=(4,4))\n",
    "gs = gridspec.GridSpec(2,1, height_ratios=[1,0.25])\n",
    "ax1 = fig.add_subplot(gs[0])\n",
    "ax2 = fig.add_subplot(gs[1])\n",
    "gs.update(hspace=0) \n",
    "\n",
    "ax1.plot(x_array, y_array_voigt, \"ro\")\n",
    "ax1.plot(x_array, _1Voigt(x_array, *popt_1voigt), 'k--')#,\\\n",
    "         #label=\"y= %0.2f$e^{%0.2fx}$ + %0.2f\" % (popt_exponential[0], popt_exponential[1], popt_exponential[2]))\n",
    "\n",
    "# peak 1\n",
    "ax1.plot(x_array, voigt_peak_1, \"g\")\n",
    "ax1.fill_between(x_array, voigt_peak_1.min(), voigt_peak_1, facecolor=\"green\", alpha=0.5)\n",
    "\n",
    "# residual\n",
    "ax2.plot(x_array, residual_1voigt, \"bo\")\n",
    "    \n",
    "#ax1.set_xlim(-5,105)\n",
    "#ax1.set_ylim(-0.5,8)\n",
    "\n",
    "#ax2.set_xlim(-5,105)\n",
    "#ax2.set_ylim(-0.5,0.75)\n",
    "\n",
    "ax2.set_xlabel(\"x_array\",family=\"serif\",  fontsize=12)\n",
    "ax1.set_ylabel(\"y_array\",family=\"serif\",  fontsize=12)\n",
    "ax2.set_ylabel(\"Res.\",family=\"serif\",  fontsize=12)\n",
    "\n",
    "ax1.legend(loc=\"best\")\n",
    "\n",
    "ax1.xaxis.set_major_locator(ticker.MultipleLocator(20))\n",
    "#ax1.yaxis.set_major_locator(ticker.MultipleLocator(50))\n",
    "\n",
    "ax2.xaxis.set_minor_locator(AutoMinorLocator(2))\n",
    "ax1.yaxis.set_minor_locator(AutoMinorLocator(2))\n",
    "\n",
    "ax1.xaxis.set_major_formatter(plt.NullFormatter())\n",
    "\n",
    "ax1.tick_params(axis='x',which='major', direction=\"out\", top=\"on\", right=\"on\", bottom=\"off\", length=8, labelsize=8)\n",
    "ax1.tick_params(axis='x',which='minor', direction=\"out\", top=\"on\", right=\"on\", bottom=\"off\", length=5, labelsize=8)\n",
    "ax1.tick_params(axis='y',which='major', direction=\"out\", top=\"on\", right=\"on\", bottom=\"off\", length=8, labelsize=8)\n",
    "ax1.tick_params(axis='y',which='minor', direction=\"out\", top=\"on\", right=\"on\", bottom=\"on\", length=5, labelsize=8)\n",
    "\n",
    "ax2.tick_params(axis='x',which='major', direction=\"out\", top=\"off\", right=\"on\", bottom=\"on\", length=8, labelsize=8)\n",
    "ax2.tick_params(axis='x',which='minor', direction=\"out\", top=\"off\", right=\"on\", bottom=\"on\", length=5, labelsize=8)\n",
    "ax2.tick_params(axis='y',which='major', direction=\"out\", top=\"off\", right=\"on\", bottom=\"on\", length=8, labelsize=8)\n",
    "ax2.tick_params(axis='y',which='minor', direction=\"out\", top=\"off\", right=\"on\", bottom=\"on\", length=5, labelsize=8)\n",
    "\n",
    "fig.tight_layout()\n",
    "fig.savefig(\"fit1Voigt_peaks_resid.png\", format=\"png\",dpi=1000)"
   ]
  },
  {
   "cell_type": "code",
   "execution_count": 32,
   "metadata": {},
   "outputs": [
    {
     "data": {
      "text/plain": [
       "(20, 50, 5, 80, 50, 5)"
      ]
     },
     "execution_count": 32,
     "metadata": {},
     "output_type": "execute_result"
    }
   ],
   "source": [
    "ampG1, cenG1, sigmaG1, ampL1, cenL1, widL1"
   ]
  },
  {
   "cell_type": "code",
   "execution_count": 33,
   "metadata": {},
   "outputs": [
    {
     "name": "stdout",
     "output_type": "stream",
     "text": [
      "gauss. weight = 91.46\n",
      "lorentz. weight = 8.54\n"
     ]
    }
   ],
   "source": [
    "print(\"gauss. weight = %0.2f\" % ((pars_1[0]/(pars_1[0]+pars_1[3]))*100))\n",
    "print(\"lorentz. weight = %0.2f\" % ((pars_1[3]/(pars_1[0]+pars_1[3]))*100))"
   ]
  },
  {
   "cell_type": "code",
   "execution_count": null,
   "metadata": {},
   "outputs": [],
   "source": []
  }
 ],
 "metadata": {
  "kernelspec": {
   "display_name": "Python 3 (ipykernel)",
   "language": "python",
   "name": "python3"
  },
  "language_info": {
   "codemirror_mode": {
    "name": "ipython",
    "version": 3
   },
   "file_extension": ".py",
   "mimetype": "text/x-python",
   "name": "python",
   "nbconvert_exporter": "python",
   "pygments_lexer": "ipython3",
   "version": "3.9.4"
  }
 },
 "nbformat": 4,
 "nbformat_minor": 4
}
