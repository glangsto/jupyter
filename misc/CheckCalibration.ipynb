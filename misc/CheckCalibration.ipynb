{
 "cells": [
  {
   "cell_type": "markdown",
   "id": "eb3334f4-6fd1-4265-9ea1-739e70632f1f",
   "metadata": {},
   "source": [
    "## Look at calibrated spectra\n",
    "Glen Langston, NSF, 2021 October 27\n",
    "### After calibration and selecting the low galactic latitude data, the averages are saved in a sub-directory\n",
    "Now check the calibration and velocities saved"
   ]
  },
  {
   "cell_type": "code",
   "execution_count": 1,
   "id": "30e5322b-4138-43a0-a672-e839e8c80a40",
   "metadata": {},
   "outputs": [
    {
     "name": "stdout",
     "output_type": "stream",
     "text": [
      "ls: ./keep/: No such file or directory\n"
     ]
    }
   ],
   "source": [
    "datadir = \"./keep/\"\n",
    "!ls {datadir}"
   ]
  },
  {
   "cell_type": "code",
   "execution_count": 2,
   "id": "16a4ae70-dcea-433a-8f5e-cc5b70be605e",
   "metadata": {},
   "outputs": [],
   "source": [
    "# Import the processing routines\n",
    "import ras"
   ]
  },
  {
   "cell_type": "code",
   "execution_count": 3,
   "id": "b4a3f504-0518-4e18-af81-96ad8a4c1b20",
   "metadata": {},
   "outputs": [],
   "source": [
    "p = ras.Plot(datadir)"
   ]
  },
  {
   "cell_type": "code",
   "execution_count": 4,
   "id": "fb603321-291d-4707-bac9-ed37099c8445",
   "metadata": {},
   "outputs": [
    {
     "name": "stdout",
     "output_type": "stream",
     "text": [
      "Ploting Intensity versus Frequency\n",
      "Not a valid file name: ./keep/\n",
      "Date: 2022-02-07\n",
      "No Plots, exiting\n"
     ]
    }
   ],
   "source": [
    "p.raw(datadir)"
   ]
  },
  {
   "cell_type": "code",
   "execution_count": 5,
   "id": "c14d521c-7ce1-4bae-aade-692c46ca3d11",
   "metadata": {},
   "outputs": [
    {
     "data": {
      "text/plain": [
       "['./keep/']"
      ]
     },
     "execution_count": 5,
     "metadata": {},
     "output_type": "execute_result"
    }
   ],
   "source": [
    "p.Help(\"-V \"+datadir)"
   ]
  },
  {
   "cell_type": "code",
   "execution_count": 6,
   "id": "85bb5513-36f9-4f3d-9811-11b0e427420a",
   "metadata": {},
   "outputs": [
    {
     "name": "stdout",
     "output_type": "stream",
     "text": [
      "Ploting Intensity versus Velocity\n",
      "Not a valid file name: ./keep/\n",
      "No Plots, exiting\n"
     ]
    }
   ],
   "source": [
    "p.raw(datadir)"
   ]
  },
  {
   "cell_type": "code",
   "execution_count": 7,
   "id": "7f17d7f5-067b-4296-a8fc-41ca32711d45",
   "metadata": {},
   "outputs": [],
   "source": [
    "import matplotlib\n",
    "import matplotlib.pyplot as plt\n",
    "import numpy as np\n",
    "import scipy as scipy\n",
    "from scipy import optimize\n",
    "from matplotlib.ticker import AutoMinorLocator\n",
    "from matplotlib import gridspec\n",
    "import matplotlib.ticker as ticker\n",
    "%matplotlib inline"
   ]
  },
  {
   "cell_type": "code",
   "execution_count": 8,
   "id": "4a9c750d-a143-4204-91dc-55314d0b2dfb",
   "metadata": {},
   "outputs": [
    {
     "name": "stdout",
     "output_type": "stream",
     "text": [
      "Length of arrays to fit: 128, 128\n",
      "X min, max:    0.000,    0.000 (km/sec)\n",
      "Y min, max:    0.000,    0.000 (Kelvins)\n",
      "Gaussian estimate; X,Y,Sigma: 0.00, 0.00, 10.00\n"
     ]
    }
   ],
   "source": [
    "# Retrieve the data from the lastest plot\n",
    "x_array = p.xv\n",
    "y_array = p.yv\n",
    "bunit = \"Kelvins\"\n",
    "print(\"Length of arrays to fit: %d, %d\" % (len(x_array),len(y_array)))\n",
    "xunit = \"MHz\"\n",
    "if not p.plotFrequency:\n",
    "    xunit = \"km/sec\"\n",
    "print(\"X min, max: %8.3f, %8.3f (%s)\" % (np.min(x_array), np.max(x_array), xunit))\n",
    "print(\"Y min, max: %8.3f, %8.3f (%s)\" % (np.min(y_array), np.max(y_array), bunit))\n",
    "\n",
    "# prepare to fit a guassian\n",
    "ymax = np.amax(y_array)\n",
    "imax = np.argmax(y_array)\n",
    "\n",
    "xmax = x_array[imax]\n",
    "sigma1 = 10.\n",
    "\n",
    "amp1 = xmax\n",
    "cen1 = ymax\n",
    "amp2 = xmax*.9\n",
    "cen2 = cen1*.9\n",
    "sigma2 = sigma1\n",
    "amp3 = xmax*.9\n",
    "cen3 = cen1*1.1\n",
    "sigma3 = sigma1\n",
    "# Print gaussian input guess\n",
    "print(\"Gaussian estimate; X,Y,Sigma: %.2f, %.2f, %.2f\" % (amp1, cen1, sigma1))"
   ]
  },
  {
   "cell_type": "code",
   "execution_count": 9,
   "id": "e87771d3-94f3-45f5-b6d5-9e980f9d3373",
   "metadata": {},
   "outputs": [
    {
     "data": {
      "image/png": "[encoded data removed]",
      "text/plain": [
       "<Figure size 864x432 with 1 Axes>"
      ]
     },
     "metadata": {
      "needs_background": "light"
     },
     "output_type": "display_data"
    }
   ],
   "source": [
    "fig = plt.figure(figsize=(12,6))\n",
    "gs = gridspec.GridSpec(1,1)\n",
    "ax1 = fig.add_subplot(gs[0])\n",
    "\n",
    "ax1.plot(x_array, y_array, \"ro\")\n",
    "\n",
    "ax1.set_xlabel(\"x_array\",family=\"serif\",  fontsize=12)\n",
    "ax1.set_ylabel(\"y_array\",family=\"serif\",  fontsize=12)\n",
    "\n",
    "ax1.xaxis.set_major_locator(ticker.MultipleLocator(20))\n",
    "#ax1.yaxis.set_major_locator(ticker.MultipleLocator(50))\n",
    "\n",
    "ax1.xaxis.set_minor_locator(AutoMinorLocator(2))\n",
    "ax1.yaxis.set_minor_locator(AutoMinorLocator(2))\n",
    "\n",
    "ax1.tick_params(axis='both',which='major', direction=\"out\", top=\"on\", right=\"on\", bottom=\"on\", length=8, labelsize=8)\n",
    "ax1.tick_params(axis='both',which='minor', direction=\"out\", top=\"on\", right=\"on\", bottom=\"on\", length=5, labelsize=8)\n",
    "\n",
    "fig.tight_layout()\n",
    "fig.savefig(\"rawGaussian.png\", format=\"png\",dpi=1000)"
   ]
  },
  {
   "cell_type": "code",
   "execution_count": null,
   "id": "3a8ff779-ad85-4e8f-96b7-b8796843aeb1",
   "metadata": {},
   "outputs": [],
   "source": []
  },
  {
   "cell_type": "code",
   "execution_count": 10,
   "id": "1306dfd3-d1e3-4276-9352-989a9abd6cae",
   "metadata": {},
   "outputs": [],
   "source": [
    "def _1gaussian(x, amp1,cen1,sigma1):\n",
    "    return amp1*(1/(sigma1*(np.sqrt(2*np.pi))))*(np.exp((-1.0/2.0)*(((x_array-cen1)/sigma1)**2)))"
   ]
  },
  {
   "cell_type": "code",
   "execution_count": null,
   "id": "fc064ec3-3887-4fc7-8773-d923ebe95c1e",
   "metadata": {},
   "outputs": [],
   "source": []
  },
  {
   "cell_type": "code",
   "execution_count": 11,
   "id": "fb71a71c-4383-437c-95b4-d2963c8a39a0",
   "metadata": {},
   "outputs": [
    {
     "name": "stderr",
     "output_type": "stream",
     "text": [
      "/usr/local/lib/python3.9/site-packages/scipy/optimize/minpack.py:833: OptimizeWarning: Covariance of the parameters could not be estimated\n",
      "  warnings.warn('Covariance of the parameters could not be estimated',\n"
     ]
    }
   ],
   "source": [
    "popt_gauss, pcov_gauss = scipy.optimize.curve_fit(_1gaussian, x_array, y_array, p0=[amp1, cen1, sigma1])\n",
    "\n",
    "perr_gauss = np.sqrt(np.diag(pcov_gauss))"
   ]
  },
  {
   "cell_type": "code",
   "execution_count": 12,
   "id": "1193301b-4c62-4272-9951-dd8b685a7e1f",
   "metadata": {},
   "outputs": [
    {
     "name": "stdout",
     "output_type": "stream",
     "text": [
      "amplitude = 0.00 (+/-) inf\n",
      "center = 0.00 (+/-) inf\n",
      "sigma = 10.00 (+/-) inf\n",
      "Gaussian value at the location of the data max: 0.00\n"
     ]
    }
   ],
   "source": [
    "# this cell prints the fitting parameters with their errors\n",
    "print(\"amplitude = %0.2f (+/-) %0.2f\" % (popt_gauss[0], perr_gauss[0]))\n",
    "print(\"center = %0.2f (+/-) %0.2f\" % (popt_gauss[1], perr_gauss[1]))\n",
    "print(\"sigma = %0.2f (+/-) %0.2f\" % (popt_gauss[2], perr_gauss[2]))\n",
    "\n",
    "y_fit =  _1gaussian(x_array, *popt_gauss)\n",
    "y_fit_max = y_fit[imax]\n",
    "print(\"Gaussian value at the location of the data max: %.2f\" % (y_fit_max))"
   ]
  },
  {
   "cell_type": "code",
   "execution_count": 13,
   "id": "2e428010-f6b8-48d5-ba12-3d319216a979",
   "metadata": {},
   "outputs": [],
   "source": [
    "# now plot the data with the gaussian fit"
   ]
  },
  {
   "cell_type": "code",
   "execution_count": 14,
   "id": "de88181d-a7e1-43ec-9390-65b1829d9029",
   "metadata": {},
   "outputs": [
    {
     "data": {
      "image/png": "[encoded data removed]",
      "text/plain": [
       "<Figure size 864x432 with 1 Axes>"
      ]
     },
     "metadata": {
      "needs_background": "light"
     },
     "output_type": "display_data"
    }
   ],
   "source": [
    "fig = plt.figure(figsize=(12,6))\n",
    "gs = gridspec.GridSpec(1,1)\n",
    "ax1 = fig.add_subplot(gs[0])\n",
    "\n",
    "ax1.plot(x_array, y_array, \"ro\", label=\"Data\")\n",
    "ax1.plot(x_array, _1gaussian(x_array, *popt_gauss), 'k--', label=\"Fit\")#,\\\n",
    "         #label=\"y= %0.2f$e^{%0.2fx}$ + %0.2f\" % (popt_exponential[0], popt_exponential[1], popt_exponential[2]))\n",
    "\n",
    "ax1.set_xlabel(\"x_array\",family=\"serif\",  fontsize=12)\n",
    "ax1.set_ylabel(\"y_array\",family=\"serif\",  fontsize=12)\n",
    "\n",
    "ax1.xaxis.set_major_locator(ticker.MultipleLocator(20))\n",
    "#ax1.yaxis.set_major_locator(ticker.MultipleLocator(50))\n",
    "\n",
    "ax1.xaxis.set_minor_locator(AutoMinorLocator(2))\n",
    "ax1.yaxis.set_minor_locator(AutoMinorLocator(2))\n",
    "\n",
    "ax1.tick_params(axis='both',which='major', direction=\"out\", top=\"on\", right=\"on\", bottom=\"on\", length=8, labelsize=8)\n",
    "ax1.tick_params(axis='both',which='minor', direction=\"out\", top=\"on\", right=\"on\", bottom=\"on\", length=5, labelsize=8)\n",
    "\n",
    "fig.tight_layout()\n",
    "fig.savefig(\"fitGaussian.png\", format=\"png\",dpi=1000)"
   ]
  },
  {
   "cell_type": "code",
   "execution_count": null,
   "id": "4eacf043-df6b-4c6e-9e23-9d12d8dbe73d",
   "metadata": {},
   "outputs": [],
   "source": []
  },
  {
   "cell_type": "code",
   "execution_count": 15,
   "id": "e3809b79-edb6-4a1f-9ae9-4b7931ee2558",
   "metadata": {},
   "outputs": [],
   "source": [
    "def _2gaussian(x, amp1,cen1,sigma1, amp2,cen2,sigma2):\n",
    "    return amp1*(1/(sigma1*(np.sqrt(2*np.pi))))*(np.exp((-1.0/2.0)*(((x_array-cen1)/sigma1)**2))) + \\\n",
    "            amp2*(1/(sigma2*(np.sqrt(2*np.pi))))*(np.exp((-1.0/2.0)*(((x_array-cen2)/sigma2)**2)))"
   ]
  },
  {
   "cell_type": "code",
   "execution_count": null,
   "id": "a0d3e93a-8bbd-4112-b272-08f2ee17d35e",
   "metadata": {},
   "outputs": [],
   "source": []
  },
  {
   "cell_type": "code",
   "execution_count": 16,
   "id": "153fe1cb-8091-4cce-b544-87c3cb4a3af2",
   "metadata": {},
   "outputs": [
    {
     "name": "stderr",
     "output_type": "stream",
     "text": [
      "/usr/local/lib/python3.9/site-packages/scipy/optimize/minpack.py:833: OptimizeWarning: Covariance of the parameters could not be estimated\n",
      "  warnings.warn('Covariance of the parameters could not be estimated',\n"
     ]
    }
   ],
   "source": [
    "popt_2gauss, pcov_2gauss = scipy.optimize.curve_fit(_2gaussian, x_array, y_array, p0=[amp1, cen1, sigma1, \\\n",
    "                                                                                          amp2, cen2, sigma2])\n",
    "\n",
    "perr_2gauss = np.sqrt(np.diag(pcov_2gauss))\n",
    "\n",
    "pars_1 = popt_2gauss[0:3]\n",
    "pars_2 = popt_2gauss[3:6]\n",
    "gauss_peak_1 = _1gaussian(x_array, *pars_1)\n",
    "gauss_peak_2 = _1gaussian(x_array, *pars_2)"
   ]
  },
  {
   "cell_type": "code",
   "execution_count": 17,
   "id": "4915066f-3fe5-4555-89f5-cdc2aa202767",
   "metadata": {},
   "outputs": [],
   "source": [
    "# next plot the dual gaussian fit"
   ]
  },
  {
   "cell_type": "code",
   "execution_count": 18,
   "id": "745f47bf-88c8-4de9-a909-05c98f327bda",
   "metadata": {},
   "outputs": [
    {
     "data": {
      "image/png": "[encoded data removed]",
      "text/plain": [
       "<Figure size 864x432 with 1 Axes>"
      ]
     },
     "metadata": {
      "needs_background": "light"
     },
     "output_type": "display_data"
    }
   ],
   "source": [
    "fig = plt.figure(figsize=(12,6))\n",
    "gs = gridspec.GridSpec(1,1)\n",
    "ax1 = fig.add_subplot(gs[0])\n",
    "\n",
    "ax1.plot(x_array, y_array, \"ro\", label=\"Data\")\n",
    "ax1.plot(x_array, _2gaussian(x_array, *popt_2gauss), 'k--', label=\"Fit\")#,\\\n",
    "         #label=\"y= %0.2f$e^{%0.2fx}$ + %0.2f\" % (popt_exponential[0], popt_exponential[1], popt_exponential[2]))\n",
    "\n",
    "ax1.set_xlabel(\"x_array\",family=\"serif\",  fontsize=12)\n",
    "ax1.set_ylabel(\"y_array\",family=\"serif\",  fontsize=12)\n",
    "\n",
    "ax1.legend(loc=\"best\")\n",
    "\n",
    "ax1.xaxis.set_major_locator(ticker.MultipleLocator(20))\n",
    "#ax1.yaxis.set_major_locator(ticker.MultipleLocator(50))\n",
    "\n",
    "ax1.xaxis.set_minor_locator(AutoMinorLocator(2))\n",
    "ax1.yaxis.set_minor_locator(AutoMinorLocator(2))\n",
    "\n",
    "ax1.tick_params(axis='both',which='major', direction=\"out\", top=\"on\", right=\"on\", bottom=\"on\", length=8, labelsize=8)\n",
    "ax1.tick_params(axis='both',which='minor', direction=\"out\", top=\"on\", right=\"on\", bottom=\"on\", length=5, labelsize=8)\n",
    "\n",
    "fig.tight_layout()\n",
    "fig.savefig(\"fit2Gaussian.png\", format=\"png\",dpi=1000)"
   ]
  },
  {
   "cell_type": "code",
   "execution_count": 19,
   "id": "f4865970-a53a-43ea-945a-024a89b031d6",
   "metadata": {},
   "outputs": [
    {
     "data": {
      "image/png": "[encoded data removed]",
      "text/plain": [
       "<Figure size 864x432 with 1 Axes>"
      ]
     },
     "metadata": {
      "needs_background": "light"
     },
     "output_type": "display_data"
    }
   ],
   "source": [
    "fig = plt.figure(figsize=(12,6))\n",
    "gs = gridspec.GridSpec(1,1)\n",
    "ax1 = fig.add_subplot(gs[0])\n",
    "\n",
    "ax1.plot(x_array, y_array, \"ro\", label=\"Data\")\n",
    "ax1.plot(x_array, _2gaussian(x_array, *popt_2gauss), 'k--', label=\"Fit\")#,\\\n",
    "         #label=\"y= %0.2f$e^{%0.2fx}$ + %0.2f\" % (popt_exponential[0], popt_exponential[1], popt_exponential[2]))\n",
    "\n",
    "# peak 1\n",
    "ax1.plot(x_array, gauss_peak_1, \"g\")\n",
    "ax1.fill_between(x_array, gauss_peak_1.min(), gauss_peak_1, facecolor=\"green\", alpha=0.5)\n",
    "  \n",
    "# peak 2\n",
    "ax1.plot(x_array, gauss_peak_2, \"y\")\n",
    "ax1.fill_between(x_array, gauss_peak_2.min(), gauss_peak_2, facecolor=\"yellow\", alpha=0.5)  \n",
    "\n",
    "ax1.set_xlabel(\"x_array\",family=\"serif\",  fontsize=12)\n",
    "ax1.set_ylabel(\"y_array\",family=\"serif\",  fontsize=12)\n",
    "\n",
    "ax1.legend(loc=\"best\")\n",
    "\n",
    "ax1.xaxis.set_major_locator(ticker.MultipleLocator(20))\n",
    "#ax1.yaxis.set_major_locator(ticker.MultipleLocator(50))\n",
    "\n",
    "ax1.xaxis.set_minor_locator(AutoMinorLocator(2))\n",
    "ax1.yaxis.set_minor_locator(AutoMinorLocator(2))\n",
    "\n",
    "ax1.tick_params(axis='both',which='major', direction=\"out\", top=\"on\", right=\"on\", bottom=\"on\", length=8, labelsize=8)\n",
    "ax1.tick_params(axis='both',which='minor', direction=\"out\", top=\"on\", right=\"on\", bottom=\"on\", length=5, labelsize=8)\n",
    "\n",
    "fig.tight_layout()\n",
    "fig.savefig(\"fit2Gaussian_peaks.png\", format=\"png\",dpi=1000)"
   ]
  },
  {
   "cell_type": "code",
   "execution_count": null,
   "id": "fd1f4016-38ca-463d-894d-9cbcedfe27a2",
   "metadata": {},
   "outputs": [],
   "source": []
  },
  {
   "cell_type": "code",
   "execution_count": 20,
   "id": "fe6ff67f-a887-4af8-8dfd-021280084645",
   "metadata": {},
   "outputs": [
    {
     "name": "stdout",
     "output_type": "stream",
     "text": [
      "-------------Peak 1-------------\n",
      "amplitude = 0.00 (+/-) inf\n",
      "center = 0.00 (+/-) inf\n",
      "sigma = 10.00 (+/-) inf\n",
      "area = 0.00\n",
      "--------------------------------\n",
      "-------------Peak 2-------------\n",
      "amplitude = 0.00 (+/-) inf\n",
      "center = 0.00 (+/-) inf\n",
      "sigma = 10.00 (+/-) inf\n",
      "area = 0.00\n",
      "--------------------------------\n"
     ]
    }
   ],
   "source": [
    "# this cell prints the fitting parameters with their errors\n",
    "print(\"-------------Peak 1-------------\")\n",
    "print(\"amplitude = %0.2f (+/-) %0.2f\" % (pars_1[0], perr_2gauss[0]))\n",
    "print(\"center = %0.2f (+/-) %0.2f\" % (pars_1[1], perr_2gauss[1]))\n",
    "print(\"sigma = %0.2f (+/-) %0.2f\" % (pars_1[2], perr_2gauss[2]))\n",
    "print(\"area = %0.2f\" % np.trapz(gauss_peak_1))\n",
    "print(\"--------------------------------\")\n",
    "print(\"-------------Peak 2-------------\")\n",
    "print(\"amplitude = %0.2f (+/-) %0.2f\" % (pars_2[0], perr_2gauss[3]))\n",
    "print(\"center = %0.2f (+/-) %0.2f\" % (pars_2[1], perr_2gauss[4]))\n",
    "print(\"sigma = %0.2f (+/-) %0.2f\" % (pars_2[2], perr_2gauss[5]))\n",
    "print(\"area = %0.2f\" % np.trapz(gauss_peak_2))\n",
    "print(\"--------------------------------\")"
   ]
  },
  {
   "cell_type": "code",
   "execution_count": 21,
   "id": "98dc0d32-2082-45f4-a63e-06594d156849",
   "metadata": {},
   "outputs": [],
   "source": [
    "# Compute difference between the two gaussian model and observations"
   ]
  },
  {
   "cell_type": "code",
   "execution_count": 22,
   "id": "10fff770-75c2-4d8e-b599-10724f4467c5",
   "metadata": {},
   "outputs": [],
   "source": [
    "residual_2gauss = y_array - (_2gaussian(x_array, *popt_2gauss))"
   ]
  },
  {
   "cell_type": "code",
   "execution_count": null,
   "id": "d0813af1-c742-42dc-acaa-fc00718f5860",
   "metadata": {},
   "outputs": [],
   "source": []
  },
  {
   "cell_type": "code",
   "execution_count": 23,
   "id": "756ce275-784c-4511-ba69-16d04ef49e83",
   "metadata": {},
   "outputs": [
    {
     "data": {
      "image/png": "[encoded data removed]",
      "text/plain": [
       "<Figure size 864x432 with 2 Axes>"
      ]
     },
     "metadata": {
      "needs_background": "light"
     },
     "output_type": "display_data"
    }
   ],
   "source": [
    "fig = plt.figure(figsize=(12,6))\n",
    "gs = gridspec.GridSpec(2,1, height_ratios=[1,0.25])\n",
    "ax1 = fig.add_subplot(gs[0])\n",
    "ax2 = fig.add_subplot(gs[1])\n",
    "gs.update(hspace=0) \n",
    "\n",
    "ax1.plot(x_array, y_array, \"ro\", label=\"Data\")\n",
    "ax1.plot(x_array, _2gaussian(x_array, *popt_2gauss), 'k--', label=\"Fit\")#,\\\n",
    "         #label=\"y= %0.2f$e^{%0.2fx}$ + %0.2f\" % (popt_exponential[0], popt_exponential[1], popt_exponential[2]))\n",
    "\n",
    "# peak 1\n",
    "ax1.plot(x_array, gauss_peak_1, \"g\")\n",
    "ax1.fill_between(x_array, gauss_peak_1.min(), gauss_peak_1, facecolor=\"green\", alpha=0.5)\n",
    "  \n",
    "# peak 2\n",
    "ax1.plot(x_array, gauss_peak_2, \"y\")\n",
    "ax1.fill_between(x_array, gauss_peak_2.min(), gauss_peak_2, facecolor=\"yellow\", alpha=0.5)  \n",
    "\n",
    "# residual\n",
    "ax2.plot(x_array, residual_2gauss, \"bo\")\n",
    "\n",
    "ax2.set_xlabel(\"x_array\",family=\"serif\",  fontsize=12)\n",
    "ax1.set_ylabel(\"y_array\",family=\"serif\",  fontsize=12)\n",
    "ax2.set_ylabel(\"Res.\",family=\"serif\",  fontsize=12)\n",
    "\n",
    "ax1.legend(loc=\"best\")\n",
    "\n",
    "ax1.xaxis.set_major_locator(ticker.MultipleLocator(20))\n",
    "#ax1.yaxis.set_major_locator(ticker.MultipleLocator(50))\n",
    "\n",
    "ax2.xaxis.set_minor_locator(AutoMinorLocator(2))\n",
    "ax1.yaxis.set_minor_locator(AutoMinorLocator(2))\n",
    "\n",
    "ax1.xaxis.set_major_formatter(plt.NullFormatter())\n",
    "\n",
    "ax1.tick_params(axis='x',which='major', direction=\"out\", top=\"on\", right=\"on\", bottom=\"off\", length=8, labelsize=8)\n",
    "ax1.tick_params(axis='x',which='minor', direction=\"out\", top=\"on\", right=\"on\", bottom=\"off\", length=5, labelsize=8)\n",
    "ax1.tick_params(axis='y',which='major', direction=\"out\", top=\"on\", right=\"on\", bottom=\"off\", length=8, labelsize=8)\n",
    "ax1.tick_params(axis='y',which='minor', direction=\"out\", top=\"on\", right=\"on\", bottom=\"on\", length=5, labelsize=8)\n",
    "\n",
    "ax2.tick_params(axis='x',which='major', direction=\"out\", top=\"off\", right=\"on\", bottom=\"on\", length=8, labelsize=8)\n",
    "ax2.tick_params(axis='x',which='minor', direction=\"out\", top=\"off\", right=\"on\", bottom=\"on\", length=5, labelsize=8)\n",
    "ax2.tick_params(axis='y',which='major', direction=\"out\", top=\"off\", right=\"on\", bottom=\"on\", length=8, labelsize=8)\n",
    "ax2.tick_params(axis='y',which='minor', direction=\"out\", top=\"off\", right=\"on\", bottom=\"on\", length=5, labelsize=8)\n",
    "\n",
    "fig.tight_layout()\n",
    "fig.savefig(\"fit2Gaussian_peaks_resid.png\", format=\"png\",dpi=1000)"
   ]
  },
  {
   "cell_type": "markdown",
   "id": "f861e990-2f4a-441d-83ea-f2f97d6ce18e",
   "metadata": {},
   "source": [
    "# Congratulations\n",
    "### You've examined the emission from the Galactic Plane and found the Velocity of the Arms of the Milky Way"
   ]
  },
  {
   "cell_type": "code",
   "execution_count": null,
   "id": "20ec2fcd-8d45-4fb4-ab47-499e50e04be1",
   "metadata": {},
   "outputs": [],
   "source": []
  },
  {
   "cell_type": "code",
   "execution_count": null,
   "id": "7a90c29f-d877-4445-88a7-1d137c4d0450",
   "metadata": {},
   "outputs": [],
   "source": []
  }
 ],
 "metadata": {
  "kernelspec": {
   "display_name": "Python 3 (ipykernel)",
   "language": "python",
   "name": "python3"
  },
  "language_info": {
   "codemirror_mode": {
    "name": "ipython",
    "version": 3
   },
   "file_extension": ".py",
   "mimetype": "text/x-python",
   "name": "python",
   "nbconvert_exporter": "python",
   "pygments_lexer": "ipython3",
   "version": "3.9.4"
  }
 },
 "nbformat": 4,
 "nbformat_minor": 5
}
