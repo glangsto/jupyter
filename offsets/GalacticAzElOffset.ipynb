{
 "cells": [
  {
   "cell_type": "markdown",
   "id": "667310ca-a6c1-41c0-9e3f-11730991c617",
   "metadata": {},
   "source": [
    "## Compute the location in the Sky (Right Ascension and Declination)\n",
    "## Where is your telescope pointing?\n",
    "### Glen Langston -- NSF --  2022 February 5\n",
    "Over most of the Sky a transit telescope will detect the galactic plane crossing the sky twice a day.   \n",
    "You'll calculate where you telescope is pointing, and estimate the size of the pointing error\n",
    "\n",
    "This notebook shows a few features of python processing and plotting."
   ]
  },
  {
   "cell_type": "code",
   "execution_count": 1,
   "id": "d2373dc2-2191-4e91-b566-f3bfa175fad3",
   "metadata": {},
   "outputs": [],
   "source": [
    "# Prepare to use some tools for computing your location and coordinates\n",
    "import numpy as np\n",
    "from astropy import units as u\n",
    "from astropy.coordinates import SkyCoord"
   ]
  },
  {
   "cell_type": "code",
   "execution_count": 2,
   "id": "bd5e4ce0-3edb-4a6a-b6e7-1137fd1249e5",
   "metadata": {},
   "outputs": [],
   "source": [
    "# to compute the Ra, Dec or Galactic Longitude, Latitude your location is needed.\n",
    "from astropy.coordinates import EarthLocation\n"
   ]
  },
  {
   "cell_type": "code",
   "execution_count": 3,
   "id": "caadf668-9923-48d6-b51e-7b04ea6d1f44",
   "metadata": {},
   "outputs": [
    {
     "name": "stdout",
     "output_type": "stream",
     "text": [
      "(883348.66971315, -4924998.93189149, 3942078.20708647) m is where the heart is ...\n"
     ]
    }
   ],
   "source": [
    "# my home address:  Put your address here to see where you are in Earth X,Y,Z\n",
    "home = EarthLocation.of_address('5477 Potomac Highlands Trail, Arbovale WV USA')\n",
    "print(\"%s is where the heart is ...\" % (home))"
   ]
  },
  {
   "cell_type": "code",
   "execution_count": 4,
   "id": "fe1a8f7f-5fba-40e7-a77a-cf659c510831",
   "metadata": {},
   "outputs": [],
   "source": [
    "# this works amazingly well!  Some named places also can yield locations\n",
    "gbt = EarthLocation.of_site('Green Bank Telescope')\n",
    "# see http://www.greenbankobservatory.org"
   ]
  },
  {
   "cell_type": "code",
   "execution_count": 5,
   "id": "4a29c89a-44a3-49cc-a528-7235e0a825d6",
   "metadata": {},
   "outputs": [],
   "source": [
    "# There are severeal other ways to set your Earth Latitude, Longitude location\n",
    "# Google Maps can tell you a location on the map.\n",
    "tellon = -79.831370676 * u.degree\n",
    "tellat = 38.422627606 * u.degree\n",
    "telalt =  814.585 * u.meter\n",
    "telescope = EarthLocation.from_geodetic( lon=tellon, lat=tellat, height=telalt)"
   ]
  },
  {
   "cell_type": "code",
   "execution_count": 6,
   "id": "416dc87f-dad7-418e-81f1-1c6c3a04dbcb",
   "metadata": {},
   "outputs": [
    {
     "name": "stdout",
     "output_type": "stream",
     "text": [
      "Distance to GBT: 1368.340295882828 m ==       1.37 km ==       0.85 miles\n"
     ]
    }
   ],
   "source": [
    "# now we can find out how far my telescope is from the GBT\n",
    "dx = telescope.x - gbt.x\n",
    "dy = telescope.y - gbt.y\n",
    "dz = telescope.z - gbt.z\n",
    "r2 = dx*dx + dy*dy + dz*dz\n",
    "r = np.sqrt(r2)\n",
    "print(\"Distance to GBT: %s == %10.2f km == %10.2f miles\" % (r, r.value/1000.,  r.value/1609.344))"
   ]
  },
  {
   "cell_type": "code",
   "execution_count": 7,
   "id": "cdb11a15-bb49-48d8-bac9-e46af198ec2e",
   "metadata": {},
   "outputs": [
    {
     "name": "stdout",
     "output_type": "stream",
     "text": [
      "Local time 2022-02-05T11:34:54.834881-05:00\n"
     ]
    }
   ],
   "source": [
    "from datetime import datetime, timezone\n",
    "\n",
    "utc_dt = datetime.now(timezone.utc)\n",
    "\n",
    "print(\"Local time {}\".format(utc_dt.astimezone().isoformat()))"
   ]
  },
  {
   "cell_type": "code",
   "execution_count": 8,
   "id": "dd307a46-8cef-4844-89c8-404867788745",
   "metadata": {},
   "outputs": [],
   "source": [
    "#Now we can get the time of a current observation\n",
    "timenow = datetime.now()"
   ]
  },
  {
   "cell_type": "code",
   "execution_count": 9,
   "id": "abb7ed8b-5f00-4604-81df-5ad84d5218dd",
   "metadata": {},
   "outputs": [
    {
     "data": {
      "text/plain": [
       "datetime.datetime(2022, 2, 5, 11, 34, 56, 640056)"
      ]
     },
     "execution_count": 9,
     "metadata": {},
     "output_type": "execute_result"
    }
   ],
   "source": [
    "# This is your current time:\n",
    "# years, months, days, hours, minutes, seconds, microseconds\n",
    "timenow"
   ]
  },
  {
   "cell_type": "code",
   "execution_count": 10,
   "id": "47b1a6a6-734d-4fdd-a9c2-1c5adb68a1d8",
   "metadata": {},
   "outputs": [],
   "source": [
    "# Now set pointing direction of your horn telescope, plus a rough estimate of the pointing error.\n",
    "az = 0. * u.degree   # due north\n",
    "alt = 75. * u.degree  # just a little off straight up.\n",
    "\n",
    "# Estimate how far off you've aligned your telescope (just a guess)\n",
    "daz = 5. * u.degree   \n",
    "dalt = -5. * u.degree  # telescope is sagging a bit\n",
    "# the coordinates can be set without the time and location\n",
    "# but RA,Dec and Galactic coordinates can not be determined\n",
    "intended = SkyCoord(alt=alt, az=az, frame=\"altaz\")\n",
    "# Actual is intended plus delta (error) offsets\n",
    "actual = SkyCoord(alt=alt+dalt, az=az+daz, frame=\"altaz\")"
   ]
  },
  {
   "cell_type": "code",
   "execution_count": 12,
   "id": "50aaa7af-5ce0-4f20-8179-772d03dec17b",
   "metadata": {},
   "outputs": [],
   "source": [
    "# Finally, this is where you wanted your telescope to point\n",
    "# in RA,Dec and Galactic coordinates\n",
    "nowIntended = SkyCoord(alt=alt, az=az, frame=\"altaz\", location=home, obstime=timenow)\n",
    "radecIntended = nowIntended.transform_to( frame=\"icrs\")\n",
    "# now we can find the true location on the sky, which is intended plus offset\n",
    "nowActual = SkyCoord(alt=alt+dalt, az=az+daz, frame=\"altaz\", location=home, obstime=timenow)\n",
    "radecActual = nowActual.transform_to( frame=\"icrs\")\n"
   ]
  },
  {
   "cell_type": "code",
   "execution_count": 13,
   "id": "6f849b9b-3ed1-49b1-924d-c96de92ee028",
   "metadata": {},
   "outputs": [
    {
     "name": "stdout",
     "output_type": "stream",
     "text": [
      "Intended: 229d20m54.6183128s 53d30m20.48740197s\n",
      "Actual:   232d38m02.94328853s 58d23m20.6676343s\n",
      "Offset:   -3d17m08.32497573s -4d53m00.18023233s\n"
     ]
    }
   ],
   "source": [
    "# print intended, actual and offsets in absolute coordinates\n",
    "print(\"Intended:\", radecIntended.ra, radecIntended.dec)\n",
    "print(\"Actual:  \", radecActual.ra, radecActual.dec)\n",
    "print(\"Offset:  \", radecIntended.ra - radecActual.ra, radecIntended.dec - radecActual.dec)"
   ]
  },
  {
   "cell_type": "markdown",
   "id": "820f8e9a-79aa-4d8c-b57f-358a32d7105f",
   "metadata": {},
   "source": [
    "## Congratulations! You've converted your telescope pointing direction to Sky coordinates.\n",
    "### You've also roughly estimated how amount of miss-pointing your telescope effects the actual location of your observations"
   ]
  },
  {
   "cell_type": "markdown",
   "id": "d6a99434-d62f-42e2-80ec-7cdb191cf2ac",
   "metadata": {},
   "source": [
    "### Next show the current location your telescope is pointing, compared to the Galactic plane location\n",
    "First read in the coordinates of the Galactic Plane you calculatd in a previous exercise."
   ]
  },
  {
   "cell_type": "code",
   "execution_count": 19,
   "id": "60c4c464-991b-4355-8c04-3570468c5abc",
   "metadata": {},
   "outputs": [],
   "source": [
    "# now read in the table of galactic plan coordinates from another excercise\n",
    "\n",
    "def read4( file): \n",
    "    f = open(file, \"r\")\n",
    "    lines = f.readlines()\n",
    "    f.close()\n",
    "    decs = []\n",
    "    ra1s = []\n",
    "    ra2s = []\n",
    "    deltas = []\n",
    "    \n",
    "    # next convert the ascii lines to numpy arrays\n",
    "    for aline in lines:\n",
    "        aline = aline.strip()\n",
    "        # if a comment line just print and go to next line\n",
    "        if aline[0] == '#':\n",
    "            print(aline)\n",
    "        else:\n",
    "            parts = aline.split()\n",
    "            if len(parts) == 4:\n",
    "                decs.append(float(parts[0]))\n",
    "                ra1s.append(float(parts[1]))\n",
    "                ra2s.append(float(parts[2]))\n",
    "                deltas.append(float(parts[3]))\n",
    "        # end for all linesin the file\n",
    "    f.close()\n",
    "    # convert from lists to arrays\n",
    "    decs = np.asarray( decs)\n",
    "    ra1s = np.asarray( ra1s)\n",
    "    ra2s = np.asarray( ra2s)\n",
    "    deltas = np.asarray( deltas)\n",
    "    # end of read 4\n",
    "    return decs, ra1s, ra2s, deltas\n"
   ]
  },
  {
   "cell_type": "code",
   "execution_count": 20,
   "id": "4e3df70a-1cb6-4bb8-824f-c60328c20343",
   "metadata": {},
   "outputs": [
    {
     "name": "stdout",
     "output_type": "stream",
     "text": [
      "# Table of Angular offsets between Transit Crossings of the Galactic Plane\n",
      "# Glen Langston -- NSF -- glangsto@nsf.gov\n",
      "# Dec    RA1     RA2   Delta RA\n",
      "# (d)    (d)     (d)     (d)\n",
      "Read in 124 data lines:  Declination range:  -62.00 to   61.00\n"
     ]
    }
   ],
   "source": [
    "file = \"GalacticPlaneCrossingOffsets.txt\"\n",
    "# now use the procedure just defined to read the file\n",
    "\n",
    "decs, ra1s, ra2s, deltas = read4( file)\n",
    "ndata = len(ra1s)\n",
    "# For the plot we want RAs to range from 0 to 360\n",
    "for iii in range(ndata):\n",
    "    if ra1s[iii] < 0:\n",
    "        ra1s[iii] = ra1s[iii] + 360.\n",
    "    if ra2s[iii] < 0:\n",
    "        ra2s[iii] = ra2s[iii] + 360.\n",
    "\n",
    "print(\"Read in %d data lines:  Declination range: %7.2f to %7.2f\" % (ndata, decs.min(), decs.max()))"
   ]
  },
  {
   "cell_type": "markdown",
   "id": "5eb325ce-8888-49bf-b9f8-777adb074725",
   "metadata": {},
   "source": [
    "### Now plot the Milky Way Galactic Plane and your current telescope pointing."
   ]
  },
  {
   "cell_type": "code",
   "execution_count": 23,
   "id": "1beecf38-daaf-48f6-bed1-b55110f1aef7",
   "metadata": {},
   "outputs": [
    {
     "data": {
      "image/png": "[encoded data removed]",
      "text/plain": [
       "<Figure size 864x446.4 with 1 Axes>"
      ]
     },
     "metadata": {
      "needs_background": "light"
     },
     "output_type": "display_data"
    }
   ],
   "source": [
    "# next plot these coordinates \n",
    "import matplotlib.pyplot as plt\n",
    "# make the font a little bigger.\n",
    "plt.rcParams.update({'font.size': 16})\n",
    "fig = plt.figure(figsize=(12,6.2))\n",
    "ax = fig.add_subplot(111)\n",
    "plt.subplot(111)\n",
    "# you can use different projections for x,y plots\n",
    "#plt.subplot(111, projection=\"Aitoff\")\n",
    "#NOTE if you use the AITOFF projection you must enter Angles in Radians\n",
    "#plt.title(\"Aitoff projection of the Milky Way Galactic Plane in RA,Dec Map\")\n",
    "plt.title(\"The Milky Way Galactic Plane in RA,Dec Map\")\n",
    "plt.grid(True)\n",
    "#plt.plot(ra_rad, dec_rad, 'o', markersize=2, alpha=0.3)\n",
    "plt.plot(ra1s, decs, 'o', markersize=3, alpha=0.5)\n",
    "plt.plot(ra2s, decs, 'o', markersize=3, alpha=0.5)\n",
    "plt.subplots_adjust(top=0.95,bottom=0.0)\n",
    "plt.xlabel(\"Right Ascension (degrees)\")\n",
    "plt.ylabel(\"Declination (degrees)\")\n",
    "# now add intended coordinate and actual coordinates\n",
    "ra = radecIntended.ra.value\n",
    "dec = radecIntended.dec.value\n",
    "ax.annotate(\"Intended\", xy=[ra, dec], textcoords='data', alpha=.5)\n",
    "plt.scatter( radecIntended.ra, radecIntended.dec,label=\"Intended\")\n",
    "ra = radecActual.ra.value\n",
    "dec = radecActual.dec.value\n",
    "ax.annotate(\"Actual\", xy=[ra, dec], textcoords='data')\n",
    "plt.scatter( radecActual.ra, radecActual.dec, label=\"Actual\")\n",
    "plt.show()"
   ]
  },
  {
   "cell_type": "markdown",
   "id": "abb05084-f82c-4015-a3a6-e5f3d0784b20",
   "metadata": {},
   "source": [
    "# Congratulations! \n",
    "## You know know where the Milky Way is compared to your observations"
   ]
  },
  {
   "cell_type": "code",
   "execution_count": null,
   "id": "e5d7c47e-f46d-4c75-ae22-2bdd20bce96f",
   "metadata": {},
   "outputs": [],
   "source": []
  }
 ],
 "metadata": {
  "kernelspec": {
   "display_name": "Python 3 (ipykernel)",
   "language": "python",
   "name": "python3"
  },
  "language_info": {
   "codemirror_mode": {
    "name": "ipython",
    "version": 3
   },
   "file_extension": ".py",
   "mimetype": "text/x-python",
   "name": "python",
   "nbconvert_exporter": "python",
   "pygments_lexer": "ipython3",
   "version": "3.9.4"
  }
 },
 "nbformat": 4,
 "nbformat_minor": 5
}
