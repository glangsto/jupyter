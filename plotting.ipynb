{
 "cells": [
  {
   "cell_type": "markdown",
   "id": "d2a0579f-d618-4533-9353-67fd4ce4f5fb",
   "metadata": {},
   "source": [
    "# Horn Radio Telescope Spectra Plotting Usage Examples"
   ]
  },
  {
   "cell_type": "markdown",
   "id": "b3ed73e6-19bb-4788-a4da-f24339992c21",
   "metadata": {},
   "source": [
    "### Glen Langston, 2021 September 16"
   ]
  },
  {
   "cell_type": "code",
   "execution_count": 1,
   "id": "b9067284-f611-4eb8-bb68-43e323e36422",
   "metadata": {},
   "outputs": [],
   "source": [
    "# Import the Radio Astronomy Service (RAS) code.\n",
    "import ras"
   ]
  },
  {
   "cell_type": "code",
   "execution_count": 2,
   "id": "513068c6-6313-4447-9fdd-eb27edc5d33a",
   "metadata": {},
   "outputs": [],
   "source": [
    "#!pip3 install PyAstronomy\n",
    "#import PyAstronomy"
   ]
  },
  {
   "cell_type": "code",
   "execution_count": 3,
   "id": "0c022013-b72c-4d3d-af45-10850fe2da3d",
   "metadata": {},
   "outputs": [],
   "source": [
    "import rasnames"
   ]
  },
  {
   "cell_type": "code",
   "execution_count": 4,
   "id": "16dfaaef-499a-490d-bad0-e67d8e60cc3d",
   "metadata": {},
   "outputs": [],
   "source": [
    "p = ras.Plot(verbose=False)"
   ]
  },
  {
   "cell_type": "code",
   "execution_count": 5,
   "id": "83343d13-4c2c-45e3-9988-a5e819c8e786",
   "metadata": {},
   "outputs": [
    {
     "name": "stdout",
     "output_type": "stream",
     "text": [
      "ras.help(flags): Plotting Inputs for telescope obs.\n",
      "Usage: .help('<flags> <files>')\n",
      "Where <flags> are:\n",
      "-A optionally scale intensities by count of spectra averaged\n",
      "-B <sample> Set first sample to plot (default is 1/4 of samples)\n",
      "-BASE  Fit and remove a spectral baseline\n",
      "-C optionally flag the center of the band\n",
      "-E <sample> Set last sample to plot (default is end of samples)\n",
      "-H optionally set the high velocity region for baseline fit\n",
      "-I <integration time> Time (seconds) to average observations before plotting\n",
      "-K <dir> optionally keep average hot and cold load calibration observations\n",
      "-L optionally set the low velocity region for baseline fit\n",
      "-N <number> optionally set the number of spectra to plot\n",
      "-O <dir> optionally output intermediate, average files\n",
      "-P <dir> write PNG and PDF files instead of showing plot\n",
      "-Q optionally plot intensity versus freQuency, instead of velocity\n",
      "-R optionally flag known RFI Lines\n",
      "-S <filename> optionally set summary file name\n",
      "-U optionally update reference frequency for a different line\n",
      "   ie -U 1612.231, 1665.402, 1667.349, 1720.530 or 1420.40575\n",
      "-V optionally plot velocity\n",
      "-Z <file tag> optionally add tag to PDF and PNG file names\n",
      "-0 optionally plot zero intensity line(s)\n",
      "-MINEL optionally set lowest elevation for calibration obs (default    30.0)\n",
      "\n",
      "Glen Langston - NSF - September 16, 2021\n"
     ]
    }
   ],
   "source": [
    "names = p.help(\"\")"
   ]
  },
  {
   "cell_type": "code",
   "execution_count": 6,
   "id": "7e35a7c7-3697-499b-9621-1cfd2adec263",
   "metadata": {},
   "outputs": [
    {
     "name": "stdout",
     "output_type": "stream",
     "text": [
      "Flagging RFI\n",
      "Spectral integration time for averaging: 600.000000\n",
      "['data']\n"
     ]
    }
   ],
   "source": [
    "names = p.help(\"-R -C -I 600. -V data\")\n",
    "print(names)"
   ]
  },
  {
   "cell_type": "code",
   "execution_count": 7,
   "id": "0a3d39e5-b4b0-45db-8de5-9832147c7350",
   "metadata": {},
   "outputs": [],
   "source": [
    "files, count = rasnames.splitNames(names, \".ast\", \".hot\", doDebug=False)"
   ]
  },
  {
   "cell_type": "code",
   "execution_count": 8,
   "id": "144d6727-537b-4bf9-a74f-44312ce6d6dc",
   "metadata": {},
   "outputs": [
    {
     "name": "stdout",
     "output_type": "stream",
     "text": [
      "Ploting Intensity versus Velocity\n",
      "Date: 2020-11-28\n"
     ]
    },
    {
     "ename": "NameError",
     "evalue": "name 'vel' is not defined",
     "output_type": "error",
     "traceback": [
      "\u001b[0;31m---------------------------------------------------------------------------\u001b[0m",
      "\u001b[0;31mNameError\u001b[0m                                 Traceback (most recent call last)",
      "\u001b[0;32m/var/folders/96/rhbt36p17wv8ygtf_zjg96zr0000gp/T/ipykernel_87138/2588217083.py\u001b[0m in \u001b[0;36m<module>\u001b[0;34m\u001b[0m\n\u001b[0;32m----> 1\u001b[0;31m \u001b[0mp\u001b[0m\u001b[0;34m.\u001b[0m\u001b[0mraw\u001b[0m\u001b[0;34m(\u001b[0m\u001b[0mfiles\u001b[0m\u001b[0;34m)\u001b[0m\u001b[0;34m\u001b[0m\u001b[0;34m\u001b[0m\u001b[0m\n\u001b[0m",
      "\u001b[0;32m~/Desktop/Research/jupyter/ras.py\u001b[0m in \u001b[0;36mraw\u001b[0;34m(self, names)\u001b[0m\n\u001b[1;32m    816\u001b[0m                 self.xa, self.xb = gf.velocity_to_indicies( self.vel, \\\n\u001b[1;32m    817\u001b[0m                                                             self.minvel, self.maxvel)\n\u001b[0;32m--> 818\u001b[0;31m                 \u001b[0mxv\u001b[0m \u001b[0;34m=\u001b[0m \u001b[0mvel\u001b[0m\u001b[0;34m\u001b[0m\u001b[0;34m\u001b[0m\u001b[0m\n\u001b[0m\u001b[1;32m    819\u001b[0m             \u001b[0;31m# keep track of x axis for plot sizing\u001b[0m\u001b[0;34m\u001b[0m\u001b[0;34m\u001b[0m\u001b[0;34m\u001b[0m\u001b[0m\n\u001b[1;32m    820\u001b[0m             \u001b[0mxmin\u001b[0m \u001b[0;34m=\u001b[0m \u001b[0mmin\u001b[0m\u001b[0;34m(\u001b[0m\u001b[0mxv\u001b[0m\u001b[0;34m[\u001b[0m\u001b[0mself\u001b[0m\u001b[0;34m.\u001b[0m\u001b[0mxa\u001b[0m\u001b[0;34m:\u001b[0m\u001b[0mself\u001b[0m\u001b[0;34m.\u001b[0m\u001b[0mxb\u001b[0m\u001b[0;34m]\u001b[0m\u001b[0;34m)\u001b[0m\u001b[0;34m\u001b[0m\u001b[0;34m\u001b[0m\u001b[0m\n",
      "\u001b[0;31mNameError\u001b[0m: name 'vel' is not defined"
     ]
    }
   ],
   "source": [
    "p.raw(files)"
   ]
  },
  {
   "cell_type": "code",
   "execution_count": 9,
   "id": "a1f83b3a-a866-4c86-a094-66ac46ec882a",
   "metadata": {},
   "outputs": [
    {
     "name": "stdout",
     "output_type": "stream",
     "text": [
      "Starting Reading of Hot Load observations\n",
      "Found  67 Hot load observations\n",
      "Starting Reading of Cold observations\n",
      "No high elevation data: can not calibrate\n",
      "No Cold load files above minimum eleation     30.0 deg\n",
      "And minimum Galactic Latitude:     30.0 deg\n",
      "Min El:    200.0 deg and Min Glat:     90.0 deg\n",
      "Median Receiver Temp:  213.62 +/- 10.20 (20.00  0.40) (K)\n",
      "Ploting Intensity versus Velocity\n"
     ]
    },
    {
     "ename": "NameError",
     "evalue": "name 'vel' is not defined",
     "output_type": "error",
     "traceback": [
      "\u001b[0;31m---------------------------------------------------------------------------\u001b[0m",
      "\u001b[0;31mNameError\u001b[0m                                 Traceback (most recent call last)",
      "\u001b[0;32m/var/folders/96/rhbt36p17wv8ygtf_zjg96zr0000gp/T/ipykernel_87138/123674213.py\u001b[0m in \u001b[0;36m<module>\u001b[0;34m\u001b[0m\n\u001b[0;32m----> 1\u001b[0;31m \u001b[0mp\u001b[0m\u001b[0;34m.\u001b[0m\u001b[0mtsys\u001b[0m\u001b[0;34m(\u001b[0m\u001b[0mfiles\u001b[0m\u001b[0;34m)\u001b[0m\u001b[0;34m\u001b[0m\u001b[0;34m\u001b[0m\u001b[0m\n\u001b[0m",
      "\u001b[0;32m~/Desktop/Research/jupyter/ras.py\u001b[0m in \u001b[0;36mtsys\u001b[0;34m(self, names)\u001b[0m\n\u001b[1;32m   1014\u001b[0m                 self.xa, self.xb = gf.velocity_to_indicies( self.vel, \\\n\u001b[1;32m   1015\u001b[0m                                                             self.minvel, self.maxvel)\n\u001b[0;32m-> 1016\u001b[0;31m                 \u001b[0mxv\u001b[0m \u001b[0;34m=\u001b[0m \u001b[0mvel\u001b[0m\u001b[0;34m\u001b[0m\u001b[0;34m\u001b[0m\u001b[0m\n\u001b[0m\u001b[1;32m   1017\u001b[0m             \u001b[0;31m# keep track of x axis for plot sizing\u001b[0m\u001b[0;34m\u001b[0m\u001b[0;34m\u001b[0m\u001b[0;34m\u001b[0m\u001b[0m\n\u001b[1;32m   1018\u001b[0m             \u001b[0mxmin\u001b[0m \u001b[0;34m=\u001b[0m \u001b[0mmin\u001b[0m\u001b[0;34m(\u001b[0m\u001b[0mxv\u001b[0m\u001b[0;34m[\u001b[0m\u001b[0mself\u001b[0m\u001b[0;34m.\u001b[0m\u001b[0mxa\u001b[0m\u001b[0;34m:\u001b[0m\u001b[0mself\u001b[0m\u001b[0;34m.\u001b[0m\u001b[0mxb\u001b[0m\u001b[0;34m]\u001b[0m\u001b[0;34m)\u001b[0m\u001b[0;34m\u001b[0m\u001b[0;34m\u001b[0m\u001b[0m\n",
      "\u001b[0;31mNameError\u001b[0m: name 'vel' is not defined"
     ]
    }
   ],
   "source": [
    "p.tsys(files)"
   ]
  },
  {
   "cell_type": "code",
   "execution_count": null,
   "id": "eb765b2b-badf-4814-a722-6beeed0f559e",
   "metadata": {},
   "outputs": [],
   "source": []
  },
  {
   "cell_type": "code",
   "execution_count": null,
   "id": "539a6bbc-ad85-4d42-9868-48065d3c7b3d",
   "metadata": {},
   "outputs": [],
   "source": []
  }
 ],
 "metadata": {
  "kernelspec": {
   "display_name": "Python 3 (ipykernel)",
   "language": "python",
   "name": "python3"
  },
  "language_info": {
   "codemirror_mode": {
    "name": "ipython",
    "version": 3
   },
   "file_extension": ".py",
   "mimetype": "text/x-python",
   "name": "python",
   "nbconvert_exporter": "python",
   "pygments_lexer": "ipython3",
   "version": "3.9.4"
  }
 },
 "nbformat": 4,
 "nbformat_minor": 5
}
